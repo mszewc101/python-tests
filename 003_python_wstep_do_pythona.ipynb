{
 "cells": [
  {
   "attachments": {},
   "cell_type": "markdown",
   "metadata": {
    "slideshow": {
     "slide_type": "slide"
    }
   },
   "source": [
    "<img src=\"code_brainers_logo.png\" alt=\"logo\" width=\"400\"/>\n",
    "\n",
    "# 003 Python - wstęp do Pythona"
   ]
  },
  {
   "attachments": {},
   "cell_type": "markdown",
   "metadata": {
    "slideshow": {
     "slide_type": "slide"
    }
   },
   "source": [
    "## Wyświetlanie/wydrukowanie wartości w pythonie\n",
    "#### `print()`"
   ]
  },
  {
   "cell_type": "markdown",
   "metadata": {},
   "source": [
    "#### Przykład wyświetlania"
   ]
  },
  {
   "cell_type": "code",
   "execution_count": 3,
   "metadata": {},
   "outputs": [
    {
     "name": "stdout",
     "output_type": "stream",
     "text": [
      "suma')\n",
      "11\n",
      "suma\n",
      "suma2\n"
     ]
    }
   ],
   "source": [
    "suma = 11\n",
    "print(\"suma')\")\n",
    "print(suma)\n",
    "print(\"suma\")\n",
    "print('suma2')"
   ]
  },
  {
   "cell_type": "markdown",
   "metadata": {},
   "source": [
    "## Podstawowe operacje arytmetyczne"
   ]
  },
  {
   "cell_type": "markdown",
   "metadata": {},
   "source": [
    "#### Dodawanie"
   ]
  },
  {
   "cell_type": "code",
   "execution_count": null,
   "metadata": {
    "slideshow": {
     "slide_type": "fragment"
    }
   },
   "outputs": [
    {
     "name": "stdout",
     "output_type": "stream",
     "text": [
      "x + y\n",
      "4\n",
      "-2\n"
     ]
    }
   ],
   "source": [
    "x = 2\n",
    "y = 4\n",
    "print(\"x + y\")\n",
    "print(2 + 2)\n",
    "print(x - y)  # odejmowanie"
   ]
  },
  {
   "cell_type": "markdown",
   "metadata": {},
   "source": [
    "#### Mnożenie"
   ]
  },
  {
   "cell_type": "code",
   "execution_count": 6,
   "metadata": {
    "slideshow": {
     "slide_type": "fragment"
    }
   },
   "outputs": [
    {
     "name": "stdout",
     "output_type": "stream",
     "text": [
      "1.5\n"
     ]
    }
   ],
   "source": [
    "print(3 * 0.5)"
   ]
  },
  {
   "attachments": {},
   "cell_type": "markdown",
   "metadata": {
    "slideshow": {
     "slide_type": "slide"
    }
   },
   "source": [
    "#### Dzielenie"
   ]
  },
  {
   "cell_type": "code",
   "execution_count": 8,
   "metadata": {
    "slideshow": {
     "slide_type": "fragment"
    }
   },
   "outputs": [
    {
     "name": "stdout",
     "output_type": "stream",
     "text": [
      "1.6666666666666667\n"
     ]
    }
   ],
   "source": [
    "print(5 / 3)"
   ]
  },
  {
   "cell_type": "markdown",
   "metadata": {},
   "source": [
    "#### Dzielenie bez reszty (część dziesiętna jest obcięta)\n",
    "`5 / 3 = 1.666` więc\n",
    "\n",
    "`5 // 3 = 1`"
   ]
  },
  {
   "cell_type": "code",
   "execution_count": 11,
   "metadata": {
    "slideshow": {
     "slide_type": "fragment"
    }
   },
   "outputs": [
    {
     "name": "stdout",
     "output_type": "stream",
     "text": [
      "3\n"
     ]
    }
   ],
   "source": [
    "print(10 // 3)"
   ]
  },
  {
   "cell_type": "markdown",
   "metadata": {},
   "source": [
    "#### Potęgowanie"
   ]
  },
  {
   "cell_type": "code",
   "execution_count": 14,
   "metadata": {
    "slideshow": {
     "slide_type": "slide"
    }
   },
   "outputs": [
    {
     "name": "stdout",
     "output_type": "stream",
     "text": [
      "256\n",
      "59049\n"
     ]
    }
   ],
   "source": [
    "print(2 ** 8)  # 2^8\n",
    "print(3 ** 10)\n"
   ]
  },
  {
   "attachments": {},
   "cell_type": "markdown",
   "metadata": {
    "slideshow": {
     "slide_type": "slide"
    }
   },
   "source": [
    "#### Reszta z dzielenia\n",
    "\n",
    "`5 % 2`\n",
    "\n",
    "`2 * 2 + 1` więc reszta: `1`"
   ]
  },
  {
   "cell_type": "code",
   "execution_count": null,
   "metadata": {
    "slideshow": {
     "slide_type": "fragment"
    }
   },
   "outputs": [
    {
     "name": "stdout",
     "output_type": "stream",
     "text": [
      "1\n"
     ]
    }
   ],
   "source": [
    "print(7 % 3) #  7 = 3 + 3 + 1"
   ]
  },
  {
   "cell_type": "markdown",
   "metadata": {},
   "source": [
    "#### Koleność działań - kolejność matematycznia\n",
    "\n",
    "Przykład:\n",
    "\n",
    "`3 + 5 * 0.5`\n",
    "\n",
    "`3 + 2.5`\n",
    "\n",
    "`5.5`"
   ]
  },
  {
   "cell_type": "code",
   "execution_count": 18,
   "metadata": {
    "slideshow": {
     "slide_type": "fragment"
    }
   },
   "outputs": [
    {
     "data": {
      "text/plain": [
       "5.5"
      ]
     },
     "execution_count": 18,
     "metadata": {},
     "output_type": "execute_result"
    }
   ],
   "source": [
    "3 + 5 * 0.5"
   ]
  },
  {
   "cell_type": "markdown",
   "metadata": {},
   "source": [
    "#### Używając nawiasów zmieniamy kolejność. Najpier wyrażenie w nawiasach, potem matematycznie."
   ]
  },
  {
   "cell_type": "code",
   "execution_count": 9,
   "metadata": {},
   "outputs": [
    {
     "data": {
      "text/plain": [
       "4.0"
      ]
     },
     "execution_count": 9,
     "metadata": {},
     "output_type": "execute_result"
    }
   ],
   "source": [
    "(3 + 5) * 0.5"
   ]
  },
  {
   "cell_type": "code",
   "execution_count": 19,
   "metadata": {},
   "outputs": [
    {
     "data": {
      "text/plain": [
       "6.0"
      ]
     },
     "execution_count": 19,
     "metadata": {},
     "output_type": "execute_result"
    }
   ],
   "source": [
    "3 + 3.0   # 3.0 + 3.0 -> 6.0"
   ]
  },
  {
   "attachments": {},
   "cell_type": "markdown",
   "metadata": {
    "slideshow": {
     "slide_type": "slide"
    }
   },
   "source": [
    "## Zmienne\n",
    "* W celu powtórnego użycia danych, które przechowujemy w pisanych przez nas poleceniach Pythona przechowujemy w tzw. zmiennych, które są etykietą na daną rzecz/element/wartość\n",
    "\n",
    "`nazwa_zmiennej = wartość`\n",
    "\n",
    " `liczba_znakow = 10`\n",
    "* Przykłady:"
   ]
  },
  {
   "cell_type": "code",
   "execution_count": 19,
   "metadata": {
    "slideshow": {
     "slide_type": "fragment"
    }
   },
   "outputs": [
    {
     "name": "stdout",
     "output_type": "stream",
     "text": [
      "2\n",
      "3\n",
      "5\n"
     ]
    }
   ],
   "source": [
    "x = 3\n",
    "Y = 4\n",
    "counterpage =1\n",
    "counter_page_new = 4 # snake case -> zmienne w pythonie\n",
    "CounterPageNew = 5   # camel case -> klasy w pythonie nie dla zmiennych\n",
    "\n",
    "zmienna = 5\n",
    "x = 3\n",
    "counter_page = 2\n",
    "variable_1 = 32\n",
    "kot = 3\n",
    "\n",
    "print(counter_page)\n",
    "print(kot)\n",
    "print(zmienna)\n",
    "\n"
   ]
  },
  {
   "attachments": {},
   "cell_type": "markdown",
   "metadata": {
    "slideshow": {
     "slide_type": "slide"
    }
   },
   "source": [
    "#### Znak równości\n",
    "* Znak równości `=` to przypisywanie wartości zmiennej"
   ]
  },
  {
   "cell_type": "code",
   "execution_count": 21,
   "metadata": {
    "slideshow": {
     "slide_type": "fragment"
    }
   },
   "outputs": [
    {
     "name": "stdout",
     "output_type": "stream",
     "text": [
      "20\n",
      "10\n",
      "21\n"
     ]
    }
   ],
   "source": [
    "width = 20\n",
    "print(width)\n",
    "x = 2\n",
    "y = x + 5 + 0 + 10 + x\n",
    "\n",
    "x = 10\n",
    "print(x)\n",
    "x = x + 11\n",
    "print(x)"
   ]
  },
  {
   "cell_type": "code",
   "execution_count": 22,
   "metadata": {
    "slideshow": {
     "slide_type": "fragment"
    }
   },
   "outputs": [
    {
     "name": "stdout",
     "output_type": "stream",
     "text": [
      "45\n"
     ]
    }
   ],
   "source": [
    "height = 5 * 9\n",
    "print(height)"
   ]
  },
  {
   "cell_type": "code",
   "execution_count": 24,
   "metadata": {},
   "outputs": [
    {
     "name": "stdout",
     "output_type": "stream",
     "text": [
      "8\n",
      "13\n"
     ]
    }
   ],
   "source": [
    "variable_2 = 3 + 5\n",
    "variable_3 = variable_2 + 5\n",
    "\n",
    "print(variable_2)\n",
    "print(variable_3)"
   ]
  },
  {
   "attachments": {},
   "cell_type": "markdown",
   "metadata": {
    "slideshow": {
     "slide_type": "slide"
    }
   },
   "source": [
    "#### Wartość zmiennej można w każdej chwili podmienić:"
   ]
  },
  {
   "cell_type": "code",
   "execution_count": 21,
   "metadata": {
    "slideshow": {
     "slide_type": "fragment"
    }
   },
   "outputs": [
    {
     "name": "stdout",
     "output_type": "stream",
     "text": [
      "2\n",
      "1001\n",
      "2\n"
     ]
    }
   ],
   "source": [
    "zmienna = 2\n",
    "print(zmienna)\n",
    "zmienna = 1001\n",
    "print(zmienna)\n",
    "zmienna = 2\n",
    "print(zmienna)"
   ]
  },
  {
   "cell_type": "markdown",
   "metadata": {},
   "source": [
    "#### Dodawanie lub odejmowanie wartości do zmiennej.\n",
    "\n",
    "#### Inkrementacja (dodanie do zmiennej 1)\n",
    "#### Dekrementacja (odjęcie od zmiennej 1)"
   ]
  },
  {
   "cell_type": "code",
   "execution_count": 28,
   "metadata": {},
   "outputs": [
    {
     "name": "stdout",
     "output_type": "stream",
     "text": [
      "101\n",
      "199\n",
      "305\n"
     ]
    }
   ],
   "source": [
    "zmienna = 100\n",
    "zmienna = zmienna + 1\n",
    "print(zmienna)\n",
    "\n",
    "zmienna2 = 200\n",
    "zmienna2 = zmienna2 - 1\n",
    "print(zmienna2)\n",
    "\n",
    "\n",
    "zmienna3 = 300\n",
    "zmienna3 += 5\n",
    "print(zmienna3)\n"
   ]
  },
  {
   "cell_type": "code",
   "execution_count": null,
   "metadata": {},
   "outputs": [],
   "source": []
  },
  {
   "cell_type": "code",
   "execution_count": null,
   "metadata": {},
   "outputs": [],
   "source": []
  },
  {
   "cell_type": "markdown",
   "metadata": {},
   "source": [
    "#### Skrócony zapis:\n",
    "`zmienna = zmienna + 1`  jest tożsame\n",
    "\n",
    "`zmienna += 1`"
   ]
  },
  {
   "cell_type": "code",
   "execution_count": 16,
   "metadata": {},
   "outputs": [
    {
     "name": "stdout",
     "output_type": "stream",
     "text": [
      "301\n",
      "399\n"
     ]
    }
   ],
   "source": [
    "zmienna = 300\n",
    "zmienna += 1\n",
    "print(zmienna)\n",
    "\n",
    "zmienna = 400\n",
    "zmienna -= 1\n",
    "print(zmienna)"
   ]
  },
  {
   "attachments": {},
   "cell_type": "markdown",
   "metadata": {
    "slideshow": {
     "slide_type": "slide"
    }
   },
   "source": [
    "#### Popularny błąd „Niezdefiniowana” zmienna\n",
    "* Jeśli zmienna „niezdefiniowana” (brak przypisanej wartości), próba jej użycia to błąd\n",
    "* Spróbujmy uzyskać dostęp do niezdefiniowanej zmiennej `n`\n",
    "* `NameError: name 'n' is not defined`"
   ]
  },
  {
   "cell_type": "code",
   "execution_count": 29,
   "metadata": {
    "slideshow": {
     "slide_type": "fragment"
    }
   },
   "outputs": [
    {
     "ename": "NameError",
     "evalue": "name 'n' is not defined",
     "output_type": "error",
     "traceback": [
      "\u001b[0;31m---------------------------------------------------------------------------\u001b[0m",
      "\u001b[0;31mNameError\u001b[0m                                 Traceback (most recent call last)",
      "Cell \u001b[0;32mIn[29], line 2\u001b[0m\n\u001b[1;32m      1\u001b[0m s \u001b[38;5;241m=\u001b[39m \u001b[38;5;241m3\u001b[39m\n\u001b[0;32m----> 2\u001b[0m \u001b[43mn\u001b[49m\n",
      "\u001b[0;31mNameError\u001b[0m: name 'n' is not defined"
     ]
    }
   ],
   "source": [
    "s = 3\n",
    "n"
   ]
  },
  {
   "attachments": {},
   "cell_type": "markdown",
   "metadata": {
    "slideshow": {
     "slide_type": "slide"
    }
   },
   "source": [
    "#### Typy liczb\n",
    "  * Całkowite: `5`, _ang. integer, int_\n",
    "  * Zmiennoprzecinkowe: `3.4`, _ang. float_\n",
    "* Obsługa przez Pythona także innych typów liczb, takich jak:\n",
    "  * Ułamkowe: $\\frac{2}{3}$\n",
    "  * Zespolone: `1 + 2j`, gdzie `j` - jednostka urojona"
   ]
  },
  {
   "cell_type": "code",
   "execution_count": 34,
   "metadata": {
    "slideshow": {
     "slide_type": "fragment"
    }
   },
   "outputs": [
    {
     "name": "stdout",
     "output_type": "stream",
     "text": [
      "7\n",
      "<class 'int'>\n",
      "7.0\n",
      "<class 'float'>\n",
      "5\n",
      "4.7\n",
      "(1+2j)\n"
     ]
    }
   ],
   "source": [
    "int_value = 5\n",
    "var1 = 2\n",
    "var2 = 5\n",
    "var3 = var1 + var2\n",
    "print(var3)\n",
    "print(type(var3))\n",
    "var4 = float(var1) + float(var2)\n",
    "print(var4)\n",
    "print(type(var4))\n",
    "float_value = 4.70\n",
    "complex_value = 1 + 2j\n",
    "\n",
    "print(int_value)\n",
    "print(float_value)\n",
    "print(complex_value)\n"
   ]
  },
  {
   "cell_type": "code",
   "execution_count": 39,
   "metadata": {},
   "outputs": [
    {
     "name": "stdout",
     "output_type": "stream",
     "text": [
      "11111.05\n"
     ]
    }
   ],
   "source": [
    "x = 22222.1\n",
    "y = 0.50\n",
    "result = x * y\n",
    "print(result)"
   ]
  },
  {
   "attachments": {},
   "cell_type": "markdown",
   "metadata": {
    "slideshow": {
     "slide_type": "slide"
    }
   },
   "source": [
    "#### Ćwiczenie nr 1: napisz program liczący zysk z konta oszczędnościowego.\n",
    "#### Dla przypisanego do zmiennych wartości: kwota początkowa, lata, oprocentowanie\n",
    "#### oblicz kwotę zysku po upływie określonej liczby lat i wyświetl wynik.\n",
    "\n",
    "* program powinien mieć 3 zmienne: `kwota, miesiace, oprocentowanie`\n",
    "* zakładamy roczną kapitalizację odsetek oraz brak podatku belki.\n",
    "* dla danych: `kwota = 10000, lat = 3, oprocentowanie = 8` poprawny wynik\n",
    " to `2597.12`\n",
    "\n",
    "* dla danych: 100 zł, 2 lat, oprocentowania 7% matematyczny wzór to: $$100 * 1,07^2$$"
   ]
  },
  {
   "cell_type": "code",
   "execution_count": 42,
   "metadata": {},
   "outputs": [
    {
     "name": "stdout",
     "output_type": "stream",
     "text": [
      "2597.12\n"
     ]
    }
   ],
   "source": [
    "#kwota poczatkowa\n",
    "x = 10_000 # -> 10000\n",
    "#okreslona liczba miesiecy\n",
    "b = 36\n",
    "#ilosc lat\n",
    "y = b / 12\n",
    "#oprocentowanie\n",
    "z = 1.08\n",
    "wynik = (x * z ** y) - x\n",
    "wynik = round(wynik, 3)\n",
    "print(wynik)"
   ]
  },
  {
   "attachments": {},
   "cell_type": "markdown",
   "metadata": {
    "slideshow": {
     "slide_type": "slide"
    }
   },
   "source": [
    "### Zapis tekstu do zmiennych:\n",
    "#### Tekst lub znaki zapisujemy w cudzysłowach `\"\"` lub apostrofach `''`"
   ]
  },
  {
   "attachments": {},
   "cell_type": "markdown",
   "metadata": {
    "slideshow": {
     "slide_type": "slide"
    }
   },
   "source": [
    "* jedne znak to też tekst\n",
    "* spacja to też znak\n",
    "* tekst to ciąg znaków _ang. string_\n",
    "* nie ma różnicy między `\"\"` i `''`, kwestia preferencji"
   ]
  },
  {
   "cell_type": "code",
   "execution_count": 35,
   "metadata": {
    "slideshow": {
     "slide_type": "fragment"
    }
   },
   "outputs": [
    {
     "name": "stdout",
     "output_type": "stream",
     "text": [
      "A\n",
      "Ala ma kota\n",
      "alamakota\n",
      "Hello!\n"
     ]
    }
   ],
   "source": [
    "\n",
    "str1 = \"\"\n",
    "str1 = 'A'\n",
    "str2 = \"Ala ma kota\"\n",
    "str3 = \"alamakota\"\n",
    "\n",
    "print(str1)\n",
    "print(str2)\n",
    "print(str3)\n",
    "\n",
    "print(\"Hello!\")"
   ]
  },
  {
   "cell_type": "code",
   "execution_count": null,
   "metadata": {},
   "outputs": [
    {
     "name": "stdout",
     "output_type": "stream",
     "text": [
      "Ala ma\n"
     ]
    }
   ],
   "source": [
    "str10 = \"Ala\"\n",
    "str20 = \"ma\"\n",
    "str50 = \" \"\n",
    "str30 = str10 + str50 + str20 #-> \"Ala ma\"\n",
    "print(str30)"
   ]
  },
  {
   "attachments": {},
   "cell_type": "markdown",
   "metadata": {
    "slideshow": {
     "slide_type": "slide"
    }
   },
   "source": [
    "#### Możliwość łączenia ciągów znaków ze sobą(konkatenacja):"
   ]
  },
  {
   "cell_type": "code",
   "execution_count": 20,
   "metadata": {
    "slideshow": {
     "slide_type": "fragment"
    }
   },
   "outputs": [
    {
     "name": "stdout",
     "output_type": "stream",
     "text": [
      "Ala ma kota, a kot ma psa.\n"
     ]
    }
   ],
   "source": [
    "print(\"Ala ma kota, \" + \"a kot ma psa.\")"
   ]
  },
  {
   "attachments": {},
   "cell_type": "markdown",
   "metadata": {
    "slideshow": {
     "slide_type": "slide"
    }
   },
   "source": [
    "#### Python pozwala mnożyć tekst przez liczbę całkowitą:"
   ]
  },
  {
   "cell_type": "code",
   "execution_count": 37,
   "metadata": {
    "slideshow": {
     "slide_type": "fragment"
    }
   },
   "outputs": [
    {
     "name": "stdout",
     "output_type": "stream",
     "text": [
      "Hello! Hello! Hello! Hello! Hello! \n",
      "Hi! Hi! Hi! Hi! Hi! Hi! Hi! Hi! Hi! Hi! \n"
     ]
    }
   ],
   "source": [
    "var1 = \"Hi! \"\n",
    "var2 = 10 * var1\n",
    "print(\"Hello! \" * 5)\n",
    "print(var2)"
   ]
  },
  {
   "cell_type": "code",
   "execution_count": 7,
   "metadata": {},
   "outputs": [
    {
     "name": "stdout",
     "output_type": "stream",
     "text": [
      "Python Python Python Python \n",
      "--------------------------------------------------\n",
      "Python Python Python Python \n"
     ]
    }
   ],
   "source": [
    "counter = 4\n",
    "tekst = \"Python \"\n",
    "print(tekst * counter)\n",
    "print(\"-\" * 50)\n",
    "print(tekst * counter)\n"
   ]
  },
  {
   "cell_type": "markdown",
   "metadata": {},
   "source": [
    "#### Uwaga! Jeśli tekst przypisany jest do zmiennej to wyświetlając go nie używamy apostrofów/cudzysłowów:"
   ]
  },
  {
   "cell_type": "code",
   "execution_count": 23,
   "metadata": {},
   "outputs": [
    {
     "name": "stdout",
     "output_type": "stream",
     "text": [
      "tekst\n",
      "Ala ma kota\n"
     ]
    }
   ],
   "source": [
    "tekst = \"Ala ma kota\"\n",
    "print(\"tekst\")\n",
    "\n",
    "print(tekst)"
   ]
  },
  {
   "attachments": {},
   "cell_type": "markdown",
   "metadata": {
    "slideshow": {
     "slide_type": "slide"
    }
   },
   "source": [
    "#### Używania cudzysłowów podwójnych `\"\"` oraz pojedynczych `''`, w przypadku chęci użycia cudzysłowu w napisie:"
   ]
  },
  {
   "cell_type": "code",
   "execution_count": null,
   "metadata": {
    "slideshow": {
     "slide_type": "fragment"
    }
   },
   "outputs": [
    {
     "ename": "SyntaxError",
     "evalue": "invalid syntax (1918636280.py, line 1)",
     "output_type": "error",
     "traceback": [
      "\u001b[0;36m  Cell \u001b[0;32mIn[24], line 1\u001b[0;36m\u001b[0m\n\u001b[0;31m    \"Ela wielbi Led Zeppelin, szczególnie za \"Stairway to Heaven\".\"\u001b[0m\n\u001b[0m                                              ^\u001b[0m\n\u001b[0;31mSyntaxError\u001b[0m\u001b[0;31m:\u001b[0m invalid syntax\n"
     ]
    }
   ],
   "source": [
    "print(\"Ela wielbi Led Zeppelin, szczególnie za \"Stairway to Heaven\".\")"
   ]
  },
  {
   "cell_type": "code",
   "execution_count": 9,
   "metadata": {},
   "outputs": [
    {
     "name": "stdout",
     "output_type": "stream",
     "text": [
      "tekst 'to co cytujemy' dalszy tekst\n"
     ]
    }
   ],
   "source": [
    "zmienna = \"tekst 'to co cytujemy' dalszy tekst\"\n",
    "print(zmienna)"
   ]
  },
  {
   "cell_type": "code",
   "execution_count": 26,
   "metadata": {},
   "outputs": [
    {
     "data": {
      "text/plain": [
       "\"Ela wielbi Led Zeppelin, szczególnie za 'Stairway to Heaven'.\""
      ]
     },
     "execution_count": 26,
     "metadata": {},
     "output_type": "execute_result"
    }
   ],
   "source": [
    "\"Ela wielbi Led Zeppelin, szczególnie za 'Stairway to Heaven'.\""
   ]
  },
  {
   "cell_type": "code",
   "execution_count": 27,
   "metadata": {
    "slideshow": {
     "slide_type": "fragment"
    }
   },
   "outputs": [
    {
     "data": {
      "text/plain": [
       "'Piotrek woli chodzić do kina na dobry film, ostatnio znów obejrzał \"Żywot Briana\", do którego zawsze powraca.'"
      ]
     },
     "execution_count": 27,
     "metadata": {},
     "output_type": "execute_result"
    }
   ],
   "source": [
    "'Piotrek woli chodzić do kina na dobry film, ostatnio znów obejrzał \"Żywot Briana\", do którego zawsze powraca.'"
   ]
  },
  {
   "attachments": {},
   "cell_type": "markdown",
   "metadata": {
    "slideshow": {
     "slide_type": "slide"
    }
   },
   "source": [
    "#### Użycie pojedyńczego `'` lub `\"` wewnątrz ciągu znaków"
   ]
  },
  {
   "attachments": {},
   "cell_type": "markdown",
   "metadata": {
    "slideshow": {
     "slide_type": "slide"
    }
   },
   "source": [
    "`\\` może służyć do zapisu cudzysłowu:\n",
    "\n",
    "`\\'`\n"
   ]
  },
  {
   "cell_type": "code",
   "execution_count": null,
   "metadata": {
    "slideshow": {
     "slide_type": "fragment"
    }
   },
   "outputs": [
    {
     "name": "stdout",
     "output_type": "stream",
     "text": [
      "doesn't\n",
      "Ela wielbi Led Zeppelin, szczególnie za \"Stairway to Heaven\".\n"
     ]
    }
   ],
   "source": [
    "print('doesn\\'t')  # używa \\' do zmiany znaczenia pojedynczego cudzysłowu ...\n",
    "print(\"Ela wielbi Led Zeppelin, szczególnie za \\\"Stairway to Heaven\\\".\")\n"
   ]
  },
  {
   "cell_type": "code",
   "execution_count": 29,
   "metadata": {
    "slideshow": {
     "slide_type": "fragment"
    }
   },
   "outputs": [
    {
     "name": "stdout",
     "output_type": "stream",
     "text": [
      "doesn't\n"
     ]
    }
   ],
   "source": [
    "print(\"doesn't\")  # ... lub zamiast tego użyj podwójnych cudzysłowów"
   ]
  },
  {
   "cell_type": "code",
   "execution_count": 30,
   "metadata": {
    "slideshow": {
     "slide_type": "fragment"
    }
   },
   "outputs": [
    {
     "name": "stdout",
     "output_type": "stream",
     "text": [
      "\"Yes,\" they said.\n"
     ]
    }
   ],
   "source": [
    "print('\"Yes,\" they said.')"
   ]
  },
  {
   "cell_type": "code",
   "execution_count": 31,
   "metadata": {
    "slideshow": {
     "slide_type": "fragment"
    }
   },
   "outputs": [
    {
     "name": "stdout",
     "output_type": "stream",
     "text": [
      "\"Yes,\" they said.\n"
     ]
    }
   ],
   "source": [
    "print(\"\\\"Yes,\\\" they said.\")"
   ]
  },
  {
   "cell_type": "code",
   "execution_count": 32,
   "metadata": {
    "slideshow": {
     "slide_type": "fragment"
    }
   },
   "outputs": [
    {
     "name": "stdout",
     "output_type": "stream",
     "text": [
      "\"Isn't,\" they said.\n"
     ]
    }
   ],
   "source": [
    "print('\"Isn\\'t,\" they said.')"
   ]
  },
  {
   "attachments": {},
   "cell_type": "markdown",
   "metadata": {
    "slideshow": {
     "slide_type": "slide"
    }
   },
   "source": [
    "#### Czytelność danych wyjściowych. Możemy użyć specjalnych znaków aby edytować to jak zostaną wyświetlane dane:\n",
    "\n",
    "* `\\n` - nowa linia\n",
    "* `\\t` - wcięcie(tabulacja)"
   ]
  },
  {
   "cell_type": "code",
   "execution_count": 12,
   "metadata": {
    "slideshow": {
     "slide_type": "fragment"
    }
   },
   "outputs": [
    {
     "name": "stdout",
     "output_type": "stream",
     "text": [
      "First line.\n",
      "\tSecond line.\n"
     ]
    }
   ],
   "source": [
    "s = 'First line.\\n\\tSecond line.'  # \\n oznacza znak nowej linii\n",
    "print(s)"
   ]
  },
  {
   "cell_type": "code",
   "execution_count": 34,
   "metadata": {},
   "outputs": [
    {
     "name": "stdout",
     "output_type": "stream",
     "text": [
      "pierwsza linia \t po tabulacji\n"
     ]
    }
   ],
   "source": [
    "tekst = \"pierwsza linia \\t po tabulacji\"\n",
    "print(tekst)"
   ]
  },
  {
   "cell_type": "code",
   "execution_count": 15,
   "metadata": {},
   "outputs": [
    {
     "name": "stdout",
     "output_type": "stream",
     "text": [
      "pierwsza linia \n",
      "\tnowa linia po tabulacji\n",
      "\t nowa linia po tabulacji\n"
     ]
    }
   ],
   "source": [
    "print(\"pierwsza linia \\n\\tnowa linia po tabulacji\\n\\tnowa linia po tabulacji\")"
   ]
  },
  {
   "attachments": {},
   "cell_type": "markdown",
   "metadata": {
    "slideshow": {
     "slide_type": "slide"
    }
   },
   "source": [
    "#### Używanie nieprzetworzonych ciągów"
   ]
  },
  {
   "attachments": {},
   "cell_type": "markdown",
   "metadata": {
    "slideshow": {
     "slide_type": "slide"
    }
   },
   "source": [
    "* Jeśli nie chce się, aby znaki poprzedzone znakiem `\\` interpretowane jako znaki specjalne, można użyć nieprzetworzonych ciągów, dodając `r` przed pierwszym cudzysłowem:"
   ]
  },
  {
   "cell_type": "code",
   "execution_count": null,
   "metadata": {
    "slideshow": {
     "slide_type": "fragment"
    }
   },
   "outputs": [
    {
     "name": "stdout",
     "output_type": "stream",
     "text": [
      "C:\\some\n",
      "ame\n",
      "C:\\some\\time\n"
     ]
    }
   ],
   "source": [
    "print('C:\\some\\name')  # tutaj \\n oznacza nową linię\n",
    "print(r'C:\\some\\time')"
   ]
  },
  {
   "cell_type": "markdown",
   "metadata": {},
   "source": [
    "#### Znak specjalny `r\"\"`\n",
    "* `r'tekst z \\ wewnątrz'`"
   ]
  },
  {
   "cell_type": "code",
   "execution_count": 37,
   "metadata": {
    "slideshow": {
     "slide_type": "fragment"
    }
   },
   "outputs": [
    {
     "name": "stdout",
     "output_type": "stream",
     "text": [
      "C:\\some\\name\n"
     ]
    }
   ],
   "source": [
    "print(r'C:\\some\\name')  # zwróć uwagę na r przed cytatem"
   ]
  },
  {
   "attachments": {},
   "cell_type": "markdown",
   "metadata": {
    "slideshow": {
     "slide_type": "slide"
    }
   },
   "source": [
    "## Komentarze - kod który jest jest interpretowany przez pythona\n",
    "* Komentarze w Pythonie dzielimy na 2 rodzaje:\n",
    "  * `# tekst komentarza `Od znaku krzyżyka do końca linii fizycznej - komentarz jednolinijkowy\n",
    "  * `\"\"\" tekst komentarza \"\"\"` lub `''' tekst komentarza'''` wewnątrz potrójnych apostrofów/cudzysłowów - komentarz wielolinijkowy\n",
    "* Możliwe miejsca pojawienia się komentarza:\n",
    "  * Na początku wiersza\n",
    "  * Po spacji\n",
    "  * Po kodzie\n",
    "* Cel komentarzy: wyjaśnienie kodu\n",
    "* Brak interpretacji przez Pythona\n",
    "* Możliwość pominięcia kodu podczas wpisywania przykładów"
   ]
  },
  {
   "cell_type": "markdown",
   "metadata": {},
   "source": [
    "#### Przykład komenrarza jednolinijkowego"
   ]
  },
  {
   "cell_type": "code",
   "execution_count": 38,
   "metadata": {},
   "outputs": [],
   "source": [
    "x = 3 # x to liczba dni w roku\n",
    "x = 4 # x to liczba dni w roku\n",
    "x = 5 # x to liczba dni w roku\n"
   ]
  },
  {
   "cell_type": "code",
   "execution_count": 39,
   "metadata": {
    "slideshow": {
     "slide_type": "fragment"
    }
   },
   "outputs": [
    {
     "name": "stdout",
     "output_type": "stream",
     "text": [
      "# To nie jest komentarz, ponieważ znajduje się w cudzysłowie.\n"
     ]
    }
   ],
   "source": [
    "# komentarz bez kodu\n",
    "text = \"# To nie jest komentarz, ponieważ znajduje się w cudzysłowie.\"\n",
    "print(text) # wypisz zawartość zmiennej text\n",
    "# print(x)"
   ]
  },
  {
   "attachments": {},
   "cell_type": "markdown",
   "metadata": {
    "slideshow": {
     "slide_type": "slide"
    }
   },
   "source": [
    "#### Przykład komentarza wielolinijkowego"
   ]
  },
  {
   "cell_type": "code",
   "execution_count": 20,
   "metadata": {},
   "outputs": [
    {
     "name": "stdout",
     "output_type": "stream",
     "text": [
      "-2\n",
      "3\n",
      "Po komentarzach\n"
     ]
    }
   ],
   "source": [
    "x = 3\n",
    "print(x - 5)\n",
    "\"\"\" Program liczy zysk z podanych miesięcy dla wskazanego oprocentowania z\n",
    "lokaty bakowej, przykład 1.\n",
    "\"\"\"\n",
    "print(x)\n",
    "\n",
    "# Program liczy zysk z podanych miesięcy dla wskazanego oprocentowania z\n",
    "# lokaty bakowej, przykład 2.\n",
    "print(\"Po komentarzach\")\n",
    "\n",
    "def add_two_numbers(x, y):\n",
    "    '''dokumentacja funckji\n",
    "    x:\n",
    "    '''\n",
    "    return x + y"
   ]
  },
  {
   "attachments": {},
   "cell_type": "markdown",
   "metadata": {
    "slideshow": {
     "slide_type": "slide"
    }
   },
   "source": [
    "## Indeksowanie łańcuchów"
   ]
  },
  {
   "attachments": {},
   "cell_type": "markdown",
   "metadata": {
    "slideshow": {
     "slide_type": "slide"
    }
   },
   "source": [
    "* Możliwość **indeksowania** łańcuchów, przy czym pierwszy znak to indeks `0`"
   ]
  },
  {
   "cell_type": "code",
   "execution_count": 42,
   "metadata": {
    "slideshow": {
     "slide_type": "fragment"
    }
   },
   "outputs": [
    {
     "name": "stdout",
     "output_type": "stream",
     "text": [
      "P\n",
      "y\n",
      "n\n"
     ]
    }
   ],
   "source": [
    "word = 'Python'\n",
    "#       P   y  t  h  o  n\n",
    "#\n",
    "#       0   1  2  3  4  5\n",
    "#       -6 -5 -4 -3 -2 -1\n",
    "print(word[0])\n",
    "\n",
    "\n",
    "\n",
    "print(word[1])\n",
    "print(word[5])\n",
    "\n",
    "# x = 22\n",
    "# print(x[0]) NIE wolno"
   ]
  },
  {
   "cell_type": "code",
   "execution_count": 40,
   "metadata": {
    "slideshow": {
     "slide_type": "fragment"
    }
   },
   "outputs": [
    {
     "ename": "IndexError",
     "evalue": "string index out of range",
     "output_type": "error",
     "traceback": [
      "\u001b[0;31m---------------------------------------------------------------------------\u001b[0m",
      "\u001b[0;31mIndexError\u001b[0m                                Traceback (most recent call last)",
      "Cell \u001b[0;32mIn[40], line 1\u001b[0m\n\u001b[0;32m----> 1\u001b[0m \u001b[38;5;28mprint\u001b[39m(\u001b[43mword\u001b[49m\u001b[43m[\u001b[49m\u001b[38;5;241;43m6\u001b[39;49m\u001b[43m]\u001b[49m)  \u001b[38;5;66;03m# próba wyświetlenia znaku na o indeksie 6 który nie istnieje\u001b[39;00m\n",
      "\u001b[0;31mIndexError\u001b[0m: string index out of range"
     ]
    }
   ],
   "source": [
    "print(word[6])  # próba wyświetlenia znaku na o indeksie 6 który nie istnieje"
   ]
  },
  {
   "attachments": {},
   "cell_type": "markdown",
   "metadata": {
    "slideshow": {
     "slide_type": "slide"
    }
   },
   "source": [
    "#### Ujemne indeksy\n",
    "* Indeksy mogą być również liczbami ujemnymi, aby rozpocząć liczenie od prawej strony\n",
    "* Zauważ, że ponieważ `-0` to to samo co `0`, ujemne indeksy zaczynają się od `-1`"
   ]
  },
  {
   "cell_type": "code",
   "execution_count": null,
   "metadata": {},
   "outputs": [
    {
     "name": "stdout",
     "output_type": "stream",
     "text": [
      "n\n",
      "o\n",
      "P\n"
     ]
    }
   ],
   "source": [
    "word = 'Python'\n",
    "#       P   y  t  h  o  n\n",
    "#\n",
    "#       0   1  2  3  4  5\n",
    "#       -6 -5 -4 -3 -2 -1\n",
    "print(word[-1])\n",
    "print(word[-2])\n",
    "print(word[-6])"
   ]
  },
  {
   "attachments": {},
   "cell_type": "markdown",
   "metadata": {
    "slideshow": {
     "slide_type": "slide"
    }
   },
   "source": [
    "#### Wycinanie (krojenie) ciągów _ang. slicing_"
   ]
  },
  {
   "attachments": {},
   "cell_type": "markdown",
   "metadata": {
    "slideshow": {
     "slide_type": "slide"
    }
   },
   "source": [
    "* Oprócz indeksowania obsługiwane jest również wycinanie\n",
    "* Podczas gdy indeksowanie służy do uzyskiwania pojedynczych znaków, krojenie (wycinanie) pozwala uzyskać podciąg:\n",
    "* ` word[start:stop]`\n",
    "* ` word[2:4]` - wyświetli znaki word od indeksu `2` do `4`"
   ]
  },
  {
   "cell_type": "code",
   "execution_count": 43,
   "metadata": {
    "slideshow": {
     "slide_type": "fragment"
    }
   },
   "outputs": [
    {
     "name": "stdout",
     "output_type": "stream",
     "text": [
      "Python\n",
      "Py\n"
     ]
    }
   ],
   "source": [
    "word = \"Python\"\n",
    "print(word)\n",
    "print(word[0:2])  # znaki od pozycji 0 (dołączone) do 2 (wyłączone)   0:4 -> 0 1 2 3"
   ]
  },
  {
   "cell_type": "code",
   "execution_count": 49,
   "metadata": {},
   "outputs": [
    {
     "name": "stdout",
     "output_type": "stream",
     "text": [
      "akot\n",
      "akota\n",
      "Ala\n",
      "Ala\n",
      "ma\n"
     ]
    }
   ],
   "source": [
    "word = \"Alamakota\"\n",
    "print(word[4:-1])\n",
    "print(word[4:])\n",
    "\n",
    "\n",
    "word = \"Alamakota2\"\n",
    "print(word[:3])\n",
    "print(word[0:3])\n",
    "\n",
    "word = \"Alamakota2\"\n",
    "print(word[3:5])"
   ]
  },
  {
   "cell_type": "code",
   "execution_count": 50,
   "metadata": {
    "slideshow": {
     "slide_type": "fragment"
    }
   },
   "outputs": [
    {
     "name": "stdout",
     "output_type": "stream",
     "text": [
      "amak\n"
     ]
    }
   ],
   "source": [
    "print(word[2:6])  # znaki od pozycji 2 (dołączone) do 6 (wyłączone)"
   ]
  },
  {
   "attachments": {},
   "cell_type": "markdown",
   "metadata": {
    "slideshow": {
     "slide_type": "slide"
    }
   },
   "source": [
    "* Zapis `word[:4]` oznacza zacznij od początku do 4 znaku\n",
    "* Zapis `word[4:]` oznacza zacznij od 4 znaku do końca\n",
    "* Zwróć uwagę, że początek jest zawsze uwzględniany, a koniec zawsze wykluczony\n",
    "* Daje to pewność, że `s[:i] + s[i:]` jest zawsze równe `s`:"
   ]
  },
  {
   "cell_type": "code",
   "execution_count": null,
   "metadata": {
    "slideshow": {
     "slide_type": "fragment"
    }
   },
   "outputs": [
    {
     "name": "stdout",
     "output_type": "stream",
     "text": [
      "Py\n",
      "thon\n",
      "Python\n"
     ]
    }
   ],
   "source": [
    "word = \"Python\"\n",
    "\n",
    "print(word[:2])    #   word[0:2]     start domyślne -> 0\n",
    "print(word[2:])    #   word[2: koniec str\n",
    "print(word[:2] + word[2:])\n",
    "\n"
   ]
  },
  {
   "cell_type": "code",
   "execution_count": null,
   "metadata": {},
   "outputs": [],
   "source": []
  },
  {
   "cell_type": "code",
   "execution_count": 51,
   "metadata": {},
   "outputs": [
    {
     "name": "stdout",
     "output_type": "stream",
     "text": [
      "Lorem\n",
      "Lorem\n",
      "a Kot\n",
      "a Kota\n",
      "em Imps\n",
      "\n"
     ]
    }
   ],
   "source": [
    "x = \"Lorem Impsum Ala ma Kota\"\n",
    "print(x[0:5])\n",
    "print(x[:5])\n",
    "print(x[-6:-1])\n",
    "print(x[-6:])\n",
    "print(x[3:10])\n",
    "print(x[-1:-6])\n"
   ]
  },
  {
   "attachments": {},
   "cell_type": "markdown",
   "metadata": {
    "slideshow": {
     "slide_type": "slide"
    }
   },
   "source": [
    "#### Podsumowanie wycinania"
   ]
  },
  {
   "attachments": {},
   "cell_type": "markdown",
   "metadata": {
    "slideshow": {
     "slide_type": "slide"
    }
   },
   "source": [
    "* Jednym ze sposobów na zapamiętanie, jak działają plasterki, jest myślenie o indeksach jako wskazujących **_między_** znakami, z lewą krawędzią pierwszego znaku numerowaną `0`\n",
    "* Następnie prawa krawędź ostatniego znaku ciągu `n` znaków ma indeks `n`, przykład:\n",
    "\n",
    "```\n",
    " +---+---+---+---+---+---+\n",
    " | P | y | t | h | o | n |\n",
    " +---+---+---+---+---+---+\n",
    " 0   1   2   3   4   5   6\n",
    "-6  -5  -4  -3  -2  -1\n",
    "```\n",
    "* Pierwszy rząd liczb podaje pozycje indeksów `0…6` w ciągu\n",
    "* Drugi wiersz zawiera odpowiednie ujemne wskaźniki\n",
    "* Kawałek od `i` do `j` składa się ze wszystkich znaków między krawędziami oznaczonymi odpowiednio `i` i `j`"
   ]
  },
  {
   "attachments": {},
   "cell_type": "markdown",
   "metadata": {
    "slideshow": {
     "slide_type": "slide"
    }
   },
   "source": [
    "#### Długość wycinka"
   ]
  },
  {
   "attachments": {},
   "cell_type": "markdown",
   "metadata": {
    "slideshow": {
     "slide_type": "fragment"
    }
   },
   "source": [
    "* W przypadku indeksów nieujemnych długość wycinka jest różnicą indeksów, jeśli oba mieszczą się w granicach\n",
    "* Na przykład długość `word[1:3]` wynosi `2`"
   ]
  },
  {
   "cell_type": "code",
   "execution_count": 53,
   "metadata": {
    "slideshow": {
     "slide_type": "fragment"
    }
   },
   "outputs": [
    {
     "name": "stdout",
     "output_type": "stream",
     "text": [
      "34567\n"
     ]
    }
   ],
   "source": [
    "word = '123456789'\n",
    "print(word[2:7])\n",
    "\n"
   ]
  },
  {
   "attachments": {},
   "cell_type": "markdown",
   "metadata": {
    "slideshow": {
     "slide_type": "slide"
    }
   },
   "source": [
    "#### Niezmienność ciągów Pythona"
   ]
  },
  {
   "attachments": {},
   "cell_type": "markdown",
   "metadata": {
    "slideshow": {
     "slide_type": "fragment"
    }
   },
   "source": [
    "* Ciągów Pythona nie można zmienić – są one niezmienne\n",
    "* Dlatego przypisanie do indeksowanej pozycji w ciągu powoduje błąd:"
   ]
  },
  {
   "cell_type": "code",
   "execution_count": 54,
   "metadata": {
    "slideshow": {
     "slide_type": "fragment"
    }
   },
   "outputs": [
    {
     "name": "stdout",
     "output_type": "stream",
     "text": [
      "Python\n"
     ]
    },
    {
     "ename": "TypeError",
     "evalue": "'str' object does not support item assignment",
     "output_type": "error",
     "traceback": [
      "\u001b[0;31m---------------------------------------------------------------------------\u001b[0m",
      "\u001b[0;31mTypeError\u001b[0m                                 Traceback (most recent call last)",
      "Cell \u001b[0;32mIn[54], line 3\u001b[0m\n\u001b[1;32m      1\u001b[0m word \u001b[38;5;241m=\u001b[39m \u001b[38;5;124m'\u001b[39m\u001b[38;5;124mPython\u001b[39m\u001b[38;5;124m'\u001b[39m\n\u001b[1;32m      2\u001b[0m \u001b[38;5;28mprint\u001b[39m(word)\n\u001b[0;32m----> 3\u001b[0m \u001b[43mword\u001b[49m\u001b[43m[\u001b[49m\u001b[38;5;241;43m0\u001b[39;49m\u001b[43m]\u001b[49m \u001b[38;5;241m=\u001b[39m \u001b[38;5;124m'\u001b[39m\u001b[38;5;124mJ\u001b[39m\u001b[38;5;124m'\u001b[39m\n",
      "\u001b[0;31mTypeError\u001b[0m: 'str' object does not support item assignment"
     ]
    }
   ],
   "source": [
    "word = 'Python'\n",
    "print(word)\n",
    "word[0] = 'J'"
   ]
  },
  {
   "cell_type": "code",
   "execution_count": 48,
   "metadata": {},
   "outputs": [
    {
     "name": "stdout",
     "output_type": "stream",
     "text": [
      "python\n",
      "Jython\n"
     ]
    }
   ],
   "source": [
    "word = 'python'\n",
    "print(word)\n",
    "\n",
    "word = 'J' + word[1:]\n",
    "print(word)"
   ]
  },
  {
   "cell_type": "code",
   "execution_count": null,
   "metadata": {},
   "outputs": [],
   "source": [
    "word = 'Python'\n",
    "word = 'Jython'"
   ]
  },
  {
   "attachments": {},
   "cell_type": "markdown",
   "metadata": {
    "slideshow": {
     "slide_type": "slide"
    }
   },
   "source": [
    "#### Jeśli potrzebujesz innego ciągu bazując na istniejącym"
   ]
  },
  {
   "attachments": {},
   "cell_type": "markdown",
   "metadata": {
    "slideshow": {
     "slide_type": "fragment"
    }
   },
   "source": [
    "* Jeśli potrzebujesz innego ciągu, powinieneś utworzyć nowy:"
   ]
  },
  {
   "cell_type": "code",
   "execution_count": 49,
   "metadata": {
    "slideshow": {
     "slide_type": "fragment"
    }
   },
   "outputs": [
    {
     "name": "stdout",
     "output_type": "stream",
     "text": [
      "Jython\n"
     ]
    }
   ],
   "source": [
    "word2 = 'J' + word[1:]\n",
    "print(word2)"
   ]
  },
  {
   "cell_type": "code",
   "execution_count": null,
   "metadata": {
    "slideshow": {
     "slide_type": "fragment"
    }
   },
   "outputs": [
    {
     "name": "stdout",
     "output_type": "stream",
     "text": [
      "Pypy\n"
     ]
    }
   ],
   "source": [
    "print(word[:2] + 'py')\n"
   ]
  },
  {
   "attachments": {},
   "cell_type": "markdown",
   "metadata": {
    "slideshow": {
     "slide_type": "slide"
    }
   },
   "source": [
    "#### Długość łańcucha"
   ]
  },
  {
   "attachments": {},
   "cell_type": "markdown",
   "metadata": {
    "slideshow": {
     "slide_type": "fragment"
    }
   },
   "source": [
    "* Wbudowana funkcja `len()` zwraca długość łańcucha:"
   ]
  },
  {
   "cell_type": "code",
   "execution_count": null,
   "metadata": {
    "slideshow": {
     "slide_type": "fragment"
    }
   },
   "outputs": [],
   "source": [
    "s = '12345678910'"
   ]
  },
  {
   "cell_type": "code",
   "execution_count": 56,
   "metadata": {
    "slideshow": {
     "slide_type": "fragment"
    }
   },
   "outputs": [
    {
     "name": "stdout",
     "output_type": "stream",
     "text": [
      "0\n",
      "11\n",
      "21\n"
     ]
    }
   ],
   "source": [
    "print(len(\"\"))\n",
    "print(len(s))\n",
    "x = len(s)\n",
    "print(x + 10)\n"
   ]
  },
  {
   "attachments": {},
   "cell_type": "markdown",
   "metadata": {
    "slideshow": {
     "slide_type": "slide"
    }
   },
   "source": [
    "## Dane wejściowe użytkownika w Pythonie"
   ]
  },
  {
   "attachments": {},
   "cell_type": "markdown",
   "metadata": {
    "slideshow": {
     "slide_type": "fragment"
    }
   },
   "source": [
    "* Aby uzyskać dane wejściowe użytkownika w Pythonie, używa się polecenia `input()`\n",
    "* Pamiętaj, że wynik uzyskany od użytkownika będzie ciągiem znaków, nawet jeśli wprowadzi liczbę\n",
    "* Na końcu `input()` czeka się, aż użytkownik coś wpisze, i naciśnie ENTER\n",
    "* Dopiero po naciśnięciu przez użytkownika klawisza ENTER program będzie kontynuowany"
   ]
  },
  {
   "cell_type": "code",
   "execution_count": 54,
   "metadata": {},
   "outputs": [
    {
     "name": "stdout",
     "output_type": "stream",
     "text": [
      "7\n",
      "6\n"
     ]
    }
   ],
   "source": [
    "lata = input()\n",
    "oprocentowanie = input(\"Wprowadź oprocentowanie: \")\n",
    "\n",
    "print(lata)\n",
    "print(oprocentowanie)\n"
   ]
  },
  {
   "attachments": {},
   "cell_type": "markdown",
   "metadata": {
    "slideshow": {
     "slide_type": "slide"
    }
   },
   "source": [
    "### Ćwiczenie\n",
    "\n",
    "* Utwórz kod, który prosi użytkownika o podanie swojego imienia i wieku\n",
    "* Wydrukuj skierowaną do użytkownika wiadomość z informacją o tym, ile ma lat"
   ]
  },
  {
   "cell_type": "code",
   "execution_count": 57,
   "metadata": {},
   "outputs": [
    {
     "name": "stdout",
     "output_type": "stream",
     "text": [
      "Jesteś Ala i masz 44 lat\n"
     ]
    }
   ],
   "source": [
    "imie = input(\"podaj imię: \")\n",
    "wiek = input(\"podaj wiek: \")\n",
    "\n",
    "print(\"Jesteś \" + imie + \" i masz \" + wiek + \" lat\")\n",
    "\n"
   ]
  },
  {
   "attachments": {},
   "cell_type": "markdown",
   "metadata": {
    "slideshow": {
     "slide_type": "slide"
    }
   },
   "source": [
    "## Listy"
   ]
  },
  {
   "attachments": {},
   "cell_type": "markdown",
   "metadata": {
    "slideshow": {
     "slide_type": "fragment"
    }
   },
   "source": [
    "* Wiele złożonych typów danych, używanych do grupowania innych wartości w Pythonie\n",
    "* Najbardziej wszechstronny typ danych to lista, zapisywalna, jako lista wartości (elementów) oddzielonych przecinkami w nawiasach kwadratowych\n",
    "* Możliwość zawierania elementów różnych typów w liście (ale zazwyczaj wszystkie elementy tego samego typu)"
   ]
  },
  {
   "cell_type": "code",
   "execution_count": 58,
   "metadata": {
    "slideshow": {
     "slide_type": "fragment"
    }
   },
   "outputs": [
    {
     "name": "stdout",
     "output_type": "stream",
     "text": [
      "[1, 4, 9, 16, 25]\n"
     ]
    }
   ],
   "source": [
    "squares = [1, 4, 9, 16, 25]\n",
    "lista1 = []\n",
    "lista2 = ['x', \"ala\", 2, 2.5, 100000]\n",
    "print(squares)"
   ]
  },
  {
   "attachments": {},
   "cell_type": "markdown",
   "metadata": {
    "slideshow": {
     "slide_type": "slide"
    }
   },
   "source": [
    "#### Indeksowanie i krojenie list"
   ]
  },
  {
   "attachments": {},
   "cell_type": "markdown",
   "metadata": {
    "slideshow": {
     "slide_type": "fragment"
    }
   },
   "source": [
    "* Podobnie jak w przypadku łańcuchów, możliwość **_indeksowania_** i **_krojenia_** list:"
   ]
  },
  {
   "cell_type": "code",
   "execution_count": 65,
   "metadata": {
    "slideshow": {
     "slide_type": "fragment"
    }
   },
   "outputs": [
    {
     "name": "stdout",
     "output_type": "stream",
     "text": [
      "1\n",
      "25\n",
      "[9, 16, 25]\n"
     ]
    }
   ],
   "source": [
    "print(squares[0])  # indeksowanie zwraca element\n",
    "print(squares[-1])\n",
    "print(squares[-3:])  # krojenie zwraca nową listę"
   ]
  },
  {
   "attachments": {},
   "cell_type": "markdown",
   "metadata": {
    "slideshow": {
     "slide_type": "slide"
    }
   },
   "source": [
    "#### Konkatenacja list"
   ]
  },
  {
   "attachments": {},
   "cell_type": "markdown",
   "metadata": {
    "slideshow": {
     "slide_type": "fragment"
    }
   },
   "source": [
    "* Listy obsługują również operacje, takie jak konkatenacja:"
   ]
  },
  {
   "cell_type": "code",
   "execution_count": 66,
   "metadata": {
    "slideshow": {
     "slide_type": "fragment"
    }
   },
   "outputs": [
    {
     "name": "stdout",
     "output_type": "stream",
     "text": [
      "[1, 4, 9, 16, 25, 36, 49, 64, 81, 100, 1, 4, 9, 16, 25]\n"
     ]
    }
   ],
   "source": [
    "lista_suma = squares + [36, 49, 64, 81, 100] + squares\n",
    "print(lista_suma)"
   ]
  },
  {
   "attachments": {},
   "cell_type": "markdown",
   "metadata": {
    "slideshow": {
     "slide_type": "slide"
    }
   },
   "source": [
    "#### Listy są typem zmiennym"
   ]
  },
  {
   "attachments": {},
   "cell_type": "markdown",
   "metadata": {
    "slideshow": {
     "slide_type": "fragment"
    }
   },
   "source": [
    "* W przeciwieństwie do ciągów znaków, które są **_niezmienne_**, listy są typem **_zmiennym_**, tzn. istnieje możliwość zmiany ich zawartości:"
   ]
  },
  {
   "cell_type": "code",
   "execution_count": 62,
   "metadata": {
    "slideshow": {
     "slide_type": "fragment"
    }
   },
   "outputs": [
    {
     "name": "stdout",
     "output_type": "stream",
     "text": [
      "[1, 8, 27, 65, 125]\n"
     ]
    }
   ],
   "source": [
    "cubes = [1, 8, 27, 65, 125]\n",
    "print(cubes)"
   ]
  },
  {
   "cell_type": "code",
   "execution_count": 71,
   "metadata": {
    "slideshow": {
     "slide_type": "fragment"
    }
   },
   "outputs": [
    {
     "name": "stdout",
     "output_type": "stream",
     "text": [
      "[1, 8, 27, 64, 125]\n"
     ]
    }
   ],
   "source": [
    "cubes[3] = 64  # zastąp niewłaściwą wartość\n",
    "print(cubes)"
   ]
  },
  {
   "cell_type": "code",
   "execution_count": 60,
   "metadata": {},
   "outputs": [
    {
     "name": "stdout",
     "output_type": "stream",
     "text": [
      "['ala', 20, 'ma']\n",
      "['Alamakota', 20, 'ma']\n"
     ]
    }
   ],
   "source": [
    "lista1 = [\"ala\", 20, \"ma\"]\n",
    "print(lista1)\n",
    "lista1[0] = \"Alamakota\"\n",
    "print(lista1)"
   ]
  },
  {
   "cell_type": "code",
   "execution_count": 67,
   "metadata": {},
   "outputs": [
    {
     "name": "stdout",
     "output_type": "stream",
     "text": [
      "[1, 2, 0, 0]\n"
     ]
    }
   ],
   "source": [
    "x = [1, 2]\n",
    "y = [0, 0]\n",
    "\n",
    "z = x + y\n",
    "print(z)\n"
   ]
  },
  {
   "cell_type": "code",
   "execution_count": 68,
   "metadata": {},
   "outputs": [
    {
     "name": "stdout",
     "output_type": "stream",
     "text": [
      "[1000000, 0]\n"
     ]
    }
   ],
   "source": [
    "z = [0, 0]\n",
    "z[0] = 1000000\n",
    "print(z)\n"
   ]
  },
  {
   "attachments": {},
   "cell_type": "markdown",
   "metadata": {
    "slideshow": {
     "slide_type": "slide"
    }
   },
   "source": [
    "#### Dodawanie nowych pozycji"
   ]
  },
  {
   "attachments": {},
   "cell_type": "markdown",
   "metadata": {
    "slideshow": {
     "slide_type": "fragment"
    }
   },
   "source": [
    "* Możesz także dodać nowe pozycje na końcu listy, używając metody `append()`"
   ]
  },
  {
   "cell_type": "code",
   "execution_count": 74,
   "metadata": {
    "slideshow": {
     "slide_type": "fragment"
    }
   },
   "outputs": [
    {
     "name": "stdout",
     "output_type": "stream",
     "text": [
      "[1, 8, 27, 64, 125]\n",
      "[1, 8, 27, 64, 125, '21.6']\n",
      "6\n",
      "[1, 8, 27, 64, 125, '21.6', 2, 3, 4, 5]\n"
     ]
    }
   ],
   "source": [
    "cubes = [1, 8, 27, 64, 125]\n",
    "print(cubes)\n",
    "cubes.append(\"21.6\")  # dodaj sześcian 6\n",
    "print(cubes)\n",
    "print(len(cubes))\n",
    "cubes.extend([2, 3, 4 ,5])\n",
    "print(cubes)"
   ]
  },
  {
   "cell_type": "code",
   "execution_count": 79,
   "metadata": {},
   "outputs": [
    {
     "name": "stdout",
     "output_type": "stream",
     "text": [
      "[1, 8, 27, 64]\n",
      "1\n",
      "[1, 8]\n"
     ]
    }
   ],
   "source": [
    "print(cubes[:4])\n",
    "# print(cubes[10])\n",
    "\n",
    "print(cubes[0])\n",
    "print(cubes[0:2])"
   ]
  },
  {
   "cell_type": "code",
   "execution_count": 80,
   "metadata": {
    "slideshow": {
     "slide_type": "fragment"
    }
   },
   "outputs": [
    {
     "name": "stdout",
     "output_type": "stream",
     "text": [
      "[1, 8, 27, 64, 125, '21.6', 2, 3, 4, 5, 343]\n"
     ]
    }
   ],
   "source": [
    "cubes.append(7 ** 3)  # i sześcian 7\n",
    "print(cubes)"
   ]
  },
  {
   "attachments": {},
   "cell_type": "markdown",
   "metadata": {
    "slideshow": {
     "slide_type": "slide"
    }
   },
   "source": [
    "#### Długość listy"
   ]
  },
  {
   "attachments": {},
   "cell_type": "markdown",
   "metadata": {
    "slideshow": {
     "slide_type": "fragment"
    }
   },
   "source": [
    "* Wbudowana funkcja `len()` ma również zastosowanie do list:"
   ]
  },
  {
   "cell_type": "code",
   "execution_count": 88,
   "metadata": {
    "slideshow": {
     "slide_type": "fragment"
    }
   },
   "outputs": [],
   "source": [
    "ala = ['a', 'b', 'c', 'd', 7]\n",
    "word = \"Ala\""
   ]
  },
  {
   "cell_type": "code",
   "execution_count": 64,
   "metadata": {
    "slideshow": {
     "slide_type": "fragment"
    }
   },
   "outputs": [
    {
     "name": "stdout",
     "output_type": "stream",
     "text": [
      "5\n",
      "3\n"
     ]
    }
   ],
   "source": [
    "print(len(ala))\n",
    "print(len(word))\n",
    "\n",
    "# print(ala.len()) #nie wolno\n",
    "#append(ala, 't') nie wolno"
   ]
  },
  {
   "attachments": {},
   "cell_type": "markdown",
   "metadata": {
    "slideshow": {
     "slide_type": "slide"
    }
   },
   "source": [
    "#### Zagnieżdżanie list"
   ]
  },
  {
   "attachments": {},
   "cell_type": "markdown",
   "metadata": {
    "slideshow": {
     "slide_type": "fragment"
    }
   },
   "source": [
    "* Możliwe jest zagnieżdżanie list (tworzenie list zawierających inne listy), na przykład:"
   ]
  },
  {
   "cell_type": "code",
   "execution_count": 81,
   "metadata": {
    "slideshow": {
     "slide_type": "fragment"
    }
   },
   "outputs": [
    {
     "name": "stdout",
     "output_type": "stream",
     "text": [
      "['a', 'b', 'c']\n"
     ]
    }
   ],
   "source": [
    "litery = ['a', 'b', 'c']\n",
    "print(litery)"
   ]
  },
  {
   "cell_type": "code",
   "execution_count": 82,
   "metadata": {
    "slideshow": {
     "slide_type": "fragment"
    }
   },
   "outputs": [
    {
     "name": "stdout",
     "output_type": "stream",
     "text": [
      "[1, 2, 3]\n"
     ]
    }
   ],
   "source": [
    "liczby = [1, 2, 3]\n",
    "print(liczby)"
   ]
  },
  {
   "cell_type": "code",
   "execution_count": 84,
   "metadata": {
    "slideshow": {
     "slide_type": "fragment"
    }
   },
   "outputs": [
    {
     "name": "stdout",
     "output_type": "stream",
     "text": [
      "[['a', 'b', 'c'], [1, 2, 3]]\n",
      "['a', 'b', 'c', 1, 2, 3]\n"
     ]
    }
   ],
   "source": [
    "razem = [litery, liczby]\n",
    "konkatenacja = litery + liczby\n",
    "print(razem)\n",
    "print(konkatenacja)"
   ]
  },
  {
   "cell_type": "code",
   "execution_count": 85,
   "metadata": {
    "slideshow": {
     "slide_type": "fragment"
    }
   },
   "outputs": [
    {
     "name": "stdout",
     "output_type": "stream",
     "text": [
      "['a', 'b', 'c']\n",
      "b\n"
     ]
    }
   ],
   "source": [
    "print(razem[0])\n",
    "print(razem[0][1])"
   ]
  },
  {
   "cell_type": "code",
   "execution_count": null,
   "metadata": {},
   "outputs": [
    {
     "name": "stdout",
     "output_type": "stream",
     "text": [
      "[[1, 2, 3], [4, 5, 6], [7, 8, 9]]\n",
      "7\n"
     ]
    }
   ],
   "source": [
    "# 1 2 3\n",
    "# 4 5 6\n",
    "# 7 8 9\n",
    "\n",
    "matrix = [[1, 2, 3],\n",
    "          [4, 5, 6],\n",
    "          [7, 8, 9]]\n",
    "\n",
    "print(matrix)\n",
    "print(matrix[2][0])   # [x][y] - x=wiersz - 1, y=kolumna - 1\n",
    "\n",
    "# matrix[2] ->   [7, 8, 9]\n",
    "# matrix[2][0] -> 7\n",
    "print(matrix[1][0])\n",
    "\n",
    "# import numpy\n",
    "# numpy.array()\n",
    "\n"
   ]
  }
 ],
 "metadata": {
  "celltoolbar": "Slideshow",
  "kernelspec": {
   "display_name": "Python 3",
   "language": "python",
   "name": "python3"
  },
  "language_info": {
   "codemirror_mode": {
    "name": "ipython",
    "version": 3
   },
   "file_extension": ".py",
   "mimetype": "text/x-python",
   "name": "python",
   "nbconvert_exporter": "python",
   "pygments_lexer": "ipython3",
   "version": "3.10.14"
  }
 },
 "nbformat": 4,
 "nbformat_minor": 4
}
