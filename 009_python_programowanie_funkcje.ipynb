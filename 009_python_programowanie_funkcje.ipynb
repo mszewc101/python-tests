{
 "cells": [
  {
   "attachments": {},
   "cell_type": "markdown",
   "metadata": {
    "slideshow": {
     "slide_type": "slide"
    }
   },
   "source": [
    "<img src=\"code_brainers_logo.png\" alt=\"logo\" width=\"400\"/>\n",
    "\n",
    "# 009 Python - programowanie funkcje\n",
    "_Kamil Bartocha_"
   ]
  },
  {
   "attachments": {},
   "cell_type": "markdown",
   "metadata": {
    "slideshow": {
     "slide_type": "slide"
    }
   },
   "source": [
    "## Programowanie funkcyjne"
   ]
  },
  {
   "attachments": {},
   "cell_type": "markdown",
   "metadata": {
    "slideshow": {
     "slide_type": "fragment"
    }
   },
   "source": [
    "* **Programowanie funkcyjne** jest paradygmatem programowania, gdzie pierwsze skrzypce należą do funkcji\n",
    "* W czystym programowaniu funkcyjnym, raz zdefiniowana funkcja zwraca zawsze tę samą wartość dla danych wartości argumentów, tak jak funkcje matematyczne\n"
   ]
  },
  {
   "attachments": {},
   "cell_type": "markdown",
   "metadata": {
    "slideshow": {
     "slide_type": "slide"
    }
   },
   "source": [
    "## Podział języków funkcyjnych"
   ]
  },
  {
   "attachments": {},
   "cell_type": "markdown",
   "metadata": {
    "slideshow": {
     "slide_type": "fragment"
    }
   },
   "source": [
    "* Języki funkcyjne można podzielić na dwie grupy:\n",
    "  * Języki czysto funkcyjne\n",
    "  * Języki mieszane"
   ]
  },
  {
   "attachments": {},
   "cell_type": "markdown",
   "metadata": {
    "slideshow": {
     "slide_type": "slide"
    }
   },
   "source": [
    "## Języki czysto funkcyjne"
   ]
  },
  {
   "attachments": {},
   "cell_type": "markdown",
   "metadata": {
    "slideshow": {
     "slide_type": "fragment"
    }
   },
   "source": [
    "* Do tej grupy należą języki, w których nie występują zmienne ani **efekty uboczne**\n",
    "* Przedstawiciele tej podgrupy to **Haskell** oraz **Clean**"
   ]
  },
  {
   "attachments": {},
   "cell_type": "markdown",
   "metadata": {
    "slideshow": {
     "slide_type": "slide"
    }
   },
   "source": [
    "## Języki mieszane"
   ]
  },
  {
   "attachments": {},
   "cell_type": "markdown",
   "metadata": {
    "slideshow": {
     "slide_type": "fragment"
    }
   },
   "source": [
    "* Języki tej grupy są popularniejsze niż języki czysto funkcyjne, gdyż:\n",
    "  * Umożliwiają one stosowanie zmiennych\n",
    "* Do grupy tej należą:\n",
    "  * **Erlang**, **Scala**\n",
    "* Ponadto elementy programowania funkcyjnego występują również w językach takich jak **Java** (od wersji 8), **Python**, **Ruby**"
   ]
  },
  {
   "attachments": {},
   "cell_type": "markdown",
   "metadata": {
    "slideshow": {
     "slide_type": "slide"
    }
   },
   "source": [
    "## Funkcje anonimowe (lambda)"
   ]
  },
  {
   "attachments": {},
   "cell_type": "markdown",
   "metadata": {
    "slideshow": {
     "slide_type": "fragment"
    }
   },
   "source": [
    "* Python umożliwia tworzenie funkcji w miejscu, bez osobnego deklarowania ich\n",
    "* Takie funkcje nazywane są „anonimowe”, bo:\n",
    "  * Nie muszą przyjmować nazw, a\n",
    "  * Wykorzystuje się je często jako np. argumenty do „normalnych” funkcji\n",
    "* Podstawowa składania funkcji anonimowej jest następująca:\n",
    "\n",
    "```\n",
    "lambda arg1, arg2: arg1 ** arg2\n",
    "       \\--------/  \\----------/\n",
    "        argumenty   operacja, której wynik jest zwracany przez funkcję\n",
    "```"
   ]
  },
  {
   "attachments": {},
   "cell_type": "markdown",
   "metadata": {
    "slideshow": {
     "slide_type": "slide"
    }
   },
   "source": [
    "#### Przykład funkcji anonimowej"
   ]
  },
  {
   "attachments": {},
   "cell_type": "markdown",
   "metadata": {
    "slideshow": {
     "slide_type": "fragment"
    }
   },
   "source": [
    "* Przykład funkcji anonimowej obliczającej przeciwprostokątną w trójkącie prostokątnym (twierdzenie Pitagorasa)\n",
    "* Przypomnienie:\n",
    "  * Twierdzenie Pitagorasa: `c*c = a*a + b*b`\n",
    "  * Operator `**` to podnoszenie do potęgi\n",
    "  * Jeśli wykładnik potęgi ma postać `1/n` (przykładowo: `1/2`), to takie potęgowanie zamienia się w pierwiastkowanie o stopniu `n`"
   ]
  },
  {
   "attachments": {},
   "cell_type": "markdown",
   "metadata": {
    "slideshow": {
     "slide_type": "fragment"
    }
   },
   "source": [
    "```python\n",
    "lambda a, b:  ((a * a) + (b * b)) ** 0.5\n",
    "```"
   ]
  },
  {
   "attachments": {},
   "cell_type": "markdown",
   "metadata": {
    "slideshow": {
     "slide_type": "slide"
    }
   },
   "source": [
    "* Funkcje anonimowe są obiektami w Pythonie\n",
    "* Dzięki temu możemy je przypisać w taki sam sposób, jak przypisanie wartości do zmiennej"
   ]
  },
  {
   "attachments": {},
   "cell_type": "markdown",
   "metadata": {
    "slideshow": {
     "slide_type": "fragment"
    }
   },
   "source": [
    "```python\n",
    "pitagoras = lambda a, b: ((a * a) + (b * b)) ** 0.5\n",
    "```"
   ]
  },
  {
   "attachments": {},
   "cell_type": "markdown",
   "metadata": {
    "slideshow": {
     "slide_type": "fragment"
    }
   },
   "source": [
    "* Pozwala to w dalszym kodzie np. wywoływać taką funkcję anonimową po jej, de facto, nazwie:"
   ]
  },
  {
   "cell_type": "code",
   "execution_count": null,
   "metadata": {
    "slideshow": {
     "slide_type": "fragment"
    }
   },
   "outputs": [
    {
     "name": "stdout",
     "output_type": "stream",
     "text": [
      "5.830951894845301\n",
      "5.830951894845301\n"
     ]
    }
   ],
   "source": [
    "pitagoras = lambda a, b:  ((a * a) + (b * b)) ** 0.5\n",
    "print(pitagoras(3, 5))\n",
    "\n",
    "def pitagoras_klasycznie(a, b):\n",
    "    return ((a * a) + (b * b)) ** 0.5\n",
    "\n",
    "print(pitagoras_klasycznie(3, 5))"
   ]
  },
  {
   "attachments": {},
   "cell_type": "markdown",
   "metadata": {
    "slideshow": {
     "slide_type": "slide"
    }
   },
   "source": [
    "## Tworzenie zbiorów danych w locie\n",
    "### Wyrażenia listowe – ang. _list comprehension_\n",
    "* Dzięki generowaniu list w locie możemy:\n",
    "  * Nawet dość skomplikowane pętle, zamienić na\n",
    "  * Pojedyncze linijki kodu"
   ]
  },
  {
   "attachments": {},
   "cell_type": "markdown",
   "metadata": {
    "slideshow": {
     "slide_type": "fragment"
    }
   },
   "source": [
    "* Przykład"
   ]
  },
  {
   "cell_type": "markdown",
   "metadata": {},
   "source": [
    "```python\n",
    "nowa_lista = [wyrażenie for element in lista]\n",
    "```"
   ]
  },
  {
   "cell_type": "code",
   "execution_count": 2,
   "metadata": {
    "slideshow": {
     "slide_type": "fragment"
    }
   },
   "outputs": [
    {
     "name": "stdout",
     "output_type": "stream",
     "text": [
      "[0, 1, 8, 27, 64, 125, 216, 343, 512, 729]\n"
     ]
    }
   ],
   "source": [
    "szesciany = []\n",
    "for x in range(10):\n",
    "    szesciany.append(x ** 3)\n",
    "\n",
    "print(szesciany)"
   ]
  },
  {
   "attachments": {},
   "cell_type": "markdown",
   "metadata": {
    "slideshow": {
     "slide_type": "slide"
    }
   },
   "source": [
    "* W podstawowej wersji możemy „przenieść” pętlę do nawiasów kwadratowych:"
   ]
  },
  {
   "cell_type": "code",
   "execution_count": null,
   "metadata": {
    "slideshow": {
     "slide_type": "fragment"
    }
   },
   "outputs": [
    {
     "name": "stdout",
     "output_type": "stream",
     "text": [
      "[0, 1, 8, 27, 64, 125, 216, 343, 512, 729]\n"
     ]
    }
   ],
   "source": [
    "szesciany = [x ** 3 for x in range(10)]\n",
    "print(szesciany)"
   ]
  },
  {
   "attachments": {},
   "cell_type": "markdown",
   "metadata": {
    "slideshow": {
     "slide_type": "slide"
    }
   },
   "source": [
    "* Ogólniejsza postać *list comprehension* z poleceniem jeżeli:"
   ]
  },
  {
   "attachments": {},
   "cell_type": "markdown",
   "metadata": {
    "slideshow": {
     "slide_type": "fragment"
    }
   },
   "source": [
    "```python\n",
    "nowa_lista = [funkcja(element) for element in lista if warunek(element)]\n",
    "```"
   ]
  },
  {
   "attachments": {},
   "cell_type": "markdown",
   "metadata": {
    "slideshow": {
     "slide_type": "fragment"
    }
   },
   "source": [
    "* Na przykład by przygotować listę kwadratów liczb nieparzystych z zakresu od `1` do `101`:"
   ]
  },
  {
   "cell_type": "code",
   "execution_count": 4,
   "metadata": {
    "slideshow": {
     "slide_type": "fragment"
    }
   },
   "outputs": [
    {
     "name": "stdout",
     "output_type": "stream",
     "text": [
      "[1, 9, 25, 49, 81, 121, 169, 225, 289, 361, 441, 529, 625, 729, 841, 961, 1089, 1225, 1369, 1521, 1681, 1849, 2025, 2209, 2401, 2601, 2809, 3025, 3249, 3481, 3721, 3969, 4225, 4489, 4761, 5041, 5329, 5625, 5929, 6241, 6561, 6889, 7225, 7569, 7921, 8281, 8649, 9025, 9409, 9801, 10201]\n"
     ]
    }
   ],
   "source": [
    "kwadraty = [el ** 2 for el in range(1, 102) if el % 2 != 0]\n",
    "print(kwadraty)"
   ]
  },
  {
   "attachments": {},
   "cell_type": "markdown",
   "metadata": {
    "slideshow": {
     "slide_type": "slide"
    }
   },
   "source": [
    "#### Ćwiczenie"
   ]
  },
  {
   "attachments": {},
   "cell_type": "markdown",
   "metadata": {
    "slideshow": {
     "slide_type": "fragment"
    }
   },
   "source": [
    "* Napisz program w Pythonie, który usuwa liczby dodatnie z podanej listy liczb\n",
    "* Zsumuj liczby ujemne i wydrukuj wartość bezwzględną za pomocą tworzenia listy – ang. *list comprehension*\n",
    "* Wydrukuj wynik"
   ]
  },
  {
   "attachments": {},
   "cell_type": "markdown",
   "metadata": {
    "slideshow": {
     "slide_type": "fragment"
    }
   },
   "source": [
    "```python\n",
    "nums = [2, 4, -6, -9, 11, -12, 14, -5, 17]\n",
    "```"
   ]
  },
  {
   "cell_type": "code",
   "execution_count": 7,
   "metadata": {},
   "outputs": [
    {
     "name": "stdout",
     "output_type": "stream",
     "text": [
      "32\n",
      "{2, 4, 11, 12, 14, 17}\n"
     ]
    }
   ],
   "source": [
    "nums = [2, 4, -6, -9, 11, -12, 14, -5, 17, 12, 2, 4]\n",
    "\n",
    "print(abs(sum([x for x in nums if x < 0])))\n",
    "\n",
    "set1 = {x for x in nums if x > 0}\n",
    "print(set1)\n",
    "\n"
   ]
  },
  {
   "attachments": {},
   "cell_type": "markdown",
   "metadata": {
    "slideshow": {
     "slide_type": "slide"
    }
   },
   "source": [
    "### Tworzenie zbiorów\n",
    "##### W podobny sposób można też przygotować zbiór\n",
    "```python\n",
    "new_set = {value for element in iterable}\n",
    "```"
   ]
  },
  {
   "cell_type": "code",
   "execution_count": null,
   "metadata": {
    "slideshow": {
     "slide_type": "fragment"
    }
   },
   "outputs": [
    {
     "name": "stdout",
     "output_type": "stream",
     "text": [
      "{'r', 'd'}\n",
      "{0, 1, 64, 4, 36, 9, 16, 49, 81, 25}\n"
     ]
    },
    {
     "data": {
      "text/plain": [
       "False"
      ]
     },
     "execution_count": 10,
     "metadata": {},
     "output_type": "execute_result"
    }
   ],
   "source": [
    "zbior = {znak for znak in \"abracadabra\" if znak not in \"abc\"}\n",
    "print(zbior)\n",
    "\n",
    "kwadraty = {el ** 2 for el in range(10)}\n",
    "print(kwadraty)"
   ]
  },
  {
   "attachments": {},
   "cell_type": "markdown",
   "metadata": {
    "slideshow": {
     "slide_type": "slide"
    }
   },
   "source": [
    "### Tworzenie słowników\n",
    "##### Podobnie można stworzyć słownik\n",
    "```python\n",
    "new_dir = {key: value for el in iterable}\n",
    "```"
   ]
  },
  {
   "cell_type": "code",
   "execution_count": 11,
   "metadata": {
    "slideshow": {
     "slide_type": "fragment"
    }
   },
   "outputs": [
    {
     "name": "stdout",
     "output_type": "stream",
     "text": [
      "{'g': 2, 'o': 3, 'l': 1, 'e': 1, '.': 1, 'c': 1, 'm': 1}\n"
     ]
    }
   ],
   "source": [
    "tekst = \"google.com\"\n",
    "wystapienia = {znak: tekst.count(znak) for znak in tekst}\n",
    "print(wystapienia)"
   ]
  },
  {
   "cell_type": "code",
   "execution_count": null,
   "metadata": {},
   "outputs": [],
   "source": []
  }
 ],
 "metadata": {
  "celltoolbar": "Slideshow",
  "kernelspec": {
   "display_name": "Python 3",
   "language": "python",
   "name": "python3"
  },
  "language_info": {
   "codemirror_mode": {
    "name": "ipython",
    "version": 3
   },
   "file_extension": ".py",
   "mimetype": "text/x-python",
   "name": "python",
   "nbconvert_exporter": "python",
   "pygments_lexer": "ipython3",
   "version": "3.9.6"
  }
 },
 "nbformat": 4,
 "nbformat_minor": 4
}
