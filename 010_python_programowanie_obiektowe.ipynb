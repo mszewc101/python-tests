{
 "cells": [
  {
   "attachments": {},
   "cell_type": "markdown",
   "metadata": {
    "slideshow": {
     "slide_type": "slide"
    }
   },
   "source": [
    "<img src=\"code_brainers_logo.png\" alt=\"logo\" width=\"400\"/>\n",
    "\n",
    "# 010 Python - programowanie obiektowe\n",
    "_Kamil Bartocha_"
   ]
  },
  {
   "attachments": {},
   "cell_type": "markdown",
   "metadata": {
    "slideshow": {
     "slide_type": "slide"
    }
   },
   "source": [
    "## Programowanie obiektowe (ang. *Object-Oriented Programming*, OOP)\n",
    "\n",
    "* Programowanie obiektowe (ang. Object-Oriented Programming, OOP) to paradygmat programowania, który opiera się na koncepcji klas i obiektów. Służy do strukturyzowania programu w proste, wielokrotnego użytku fragmenty kodu (zwykle nazywane klasami), które są używane do tworzenia indywidualnych instancji obiektów.\n",
    "* Ponieważ OOP jest paradygmatem programowania, istnieje wiele języków programowania zorientowanych obiektowo, w tym: C++, Java i Python.\n",
    "\n",
    "* Programista projektuje program, organizując powiązane fragmenty informacji i zachowań w szablon zwany klasą. Następnie z szablonu klasy tworzone są poszczególne obiekty. Cały program działa na zasadzie interakcji wielu obiektów z obiektami w celu utworzenia większego programu."
   ]
  },
  {
   "attachments": {},
   "cell_type": "markdown",
   "metadata": {
    "slideshow": {
     "slide_type": "slide"
    }
   },
   "source": [
    "### Zalety programowania obiektowego\n",
    "\n",
    "* OOP sprawia, że kod jest uporządkowany, wielokrotnego użytku i łatwy w utrzymaniu. Jest zgodny z zasadą DRY (ang. *Don’t Repeat Yourself*) używaną przez wielu programistów do tworzenia wydajnych programów.\n",
    "\n",
    "* OOP zapobiega również niepożądanemu dostępowi do danych lub ujawnianiu zastrzeżonego kodu przez hermetyzację i abstrakcję. Obie te rzeczy są omówione bardziej szczegółowo później."
   ]
  },
  {
   "attachments": {},
   "cell_type": "markdown",
   "metadata": {
    "slideshow": {
     "slide_type": "slide"
    }
   },
   "source": [
    "### Bloki konstrukcyjne OOP"
   ]
  },
  {
   "attachments": {},
   "cell_type": "markdown",
   "metadata": {
    "slideshow": {
     "slide_type": "subslide"
    }
   },
   "source": [
    "Elementy kodu do zbudowania programu OOP, które omówimy, to:\n",
    "\n",
    "* klasy\n",
    "* obiekty\n",
    "* metody\n",
    "* atrybuty\n",
    "\n",
    "![](https://www.educative.io/api/page/4792707659595776/image/download/4522286854963200)"
   ]
  },
  {
   "attachments": {},
   "cell_type": "markdown",
   "metadata": {
    "slideshow": {
     "slide_type": "slide"
    }
   },
   "source": [
    "## Obiekty"
   ]
  },
  {
   "attachments": {},
   "cell_type": "markdown",
   "metadata": {
    "slideshow": {
     "slide_type": "subslide"
    }
   },
   "source": [
    "Rozpoczynając programowanie w Pythonie, nie mamy za bardzo do czynienia **świadomie** z obiektowością - często krótsze programy piszemy, w ogóle jej nie wykorzystując. W trakcie pierwszych modułów kursu programowania nie korzystaliście raczej z obiektowości w Pythonie. Dzięki temu początki stały się dużo prostsze do nauki, bo nie musieliście od razu zapoznawać się z teorią stojącą za programowaniem obiektowym."
   ]
  },
  {
   "attachments": {},
   "cell_type": "markdown",
   "metadata": {
    "slideshow": {
     "slide_type": "slide"
    }
   },
   "source": [
    "## Wszystko jest obiektem"
   ]
  },
  {
   "attachments": {},
   "cell_type": "markdown",
   "metadata": {
    "slideshow": {
     "slide_type": "subslide"
    }
   },
   "source": [
    "Wcześniej widzieliśmy, że zmienne są po prostu wskaźnikami do danych, a same nazwy zmiennych nie mają dołączonych informacji o typie. To prowadzi niektórych do błędnego twierdzenia, że Python jest językiem wolnym od typów. Ale tak nie jest! Rozważ następujące przykłady:"
   ]
  },
  {
   "cell_type": "code",
   "execution_count": 1,
   "metadata": {
    "scrolled": true,
    "slideshow": {
     "slide_type": "fragment"
    }
   },
   "outputs": [
    {
     "name": "stdout",
     "output_type": "stream",
     "text": [
      "<class 'int'>\n",
      "<class 'str'>\n",
      "<class 'float'>\n"
     ]
    }
   ],
   "source": [
    "x = 4\n",
    "print(type(x))\n",
    "\n",
    "x = 'hello'\n",
    "print(type(x))\n",
    "\n",
    "x = 3.14159\n",
    "print(type(x))"
   ]
  },
  {
   "attachments": {},
   "cell_type": "markdown",
   "metadata": {
    "slideshow": {
     "slide_type": "subslide"
    }
   },
   "source": [
    "Python ma typy; jednak typy są połączone nie z nazwami zmiennych, ale *z samymi obiektami*."
   ]
  },
  {
   "attachments": {},
   "cell_type": "markdown",
   "metadata": {
    "slideshow": {
     "slide_type": "fragment"
    }
   },
   "source": [
    "Skoro Pythonie wszystko jest obiektem, to tym samym posiada pewien wspólny zestaw cech:\n",
    "\n",
    "* Tożsamość (ang. *identity*) – wskazuje na lokalizację obiektu w pamięci\n",
    "* Typ (ang. *type*) – opisuje reprezentację obiektu dla Pythona\n",
    "* Wartość (ang. *value*) – dane przechowywane w obiekcie"
   ]
  },
  {
   "attachments": {},
   "cell_type": "markdown",
   "metadata": {
    "slideshow": {
     "slide_type": "subslide"
    }
   },
   "source": [
    "Rozważmy następujący przykład:"
   ]
  },
  {
   "attachments": {},
   "cell_type": "markdown",
   "metadata": {
    "slideshow": {
     "slide_type": "fragment"
    }
   },
   "source": [
    "Ze wcześniejszych zajęć wiemy już, jak poznać typ obiektu - przy pomocy funkcji: `type()`. Wiemy też jak poznać wartość obiektu. Żeby natomiast poznać tożsamość obiektu, nauczmy się nowej funkcji wbudowanej: `id()`."
   ]
  },
  {
   "attachments": {},
   "cell_type": "markdown",
   "metadata": {
    "slideshow": {
     "slide_type": "subslide"
    }
   },
   "source": [
    "##### Funkcja wbudowana `id()`\n",
    "```python\n",
    "id(object)\n",
    "```\n",
    "Zwróć „tożsamość” obiektu. Jest to liczba całkowita, która na pewno będzie niepowtarzalna i stała dla tego obiektu podczas jego życia. Dwa obiekty z nienakładającymi się okresami istnienia mogą mieć tę samą wartość `id()`.\\\n",
    "**Szczegóły implementacji Pythona**: jest to adres obiektu w pamięci."
   ]
  },
  {
   "cell_type": "code",
   "execution_count": 5,
   "metadata": {
    "slideshow": {
     "slide_type": "subslide"
    }
   },
   "outputs": [
    {
     "name": "stdout",
     "output_type": "stream",
     "text": [
      "4376510800\n",
      "4422862192\n",
      "4428588656\n",
      "4376510832\n",
      "4376510800\n",
      "4376510800\n",
      "4376510832\n"
     ]
    }
   ],
   "source": [
    "x = 4\n",
    "print(id(x))\n",
    "\n",
    "x = 'hello'\n",
    "print(id(x))\n",
    "\n",
    "x = 3.14159\n",
    "print(id(x))\n",
    "\n",
    "x = 5\n",
    "print(id(x))\n",
    "\n",
    "\n",
    "x = 4\n",
    "print(id(x))\n",
    "\n",
    "y = 4\n",
    "print(id(y))\n",
    "\n",
    "x = x + 1\n",
    "print(id(x))\n",
    "# int(1) int(2)...\n",
    "# x = 1 -> int(2)"
   ]
  },
  {
   "attachments": {},
   "cell_type": "markdown",
   "metadata": {
    "slideshow": {
     "slide_type": "subslide"
    }
   },
   "source": [
    "Spróbujmy poeksperymentować bardziej:"
   ]
  },
  {
   "cell_type": "code",
   "execution_count": 3,
   "metadata": {
    "slideshow": {
     "slide_type": "fragment"
    }
   },
   "outputs": [
    {
     "name": "stdout",
     "output_type": "stream",
     "text": [
      "4429738752\n",
      "<class 'list'>\n",
      "[1, 2, 3]\n",
      "4363190512\n"
     ]
    }
   ],
   "source": [
    "lst = [1, 2, 3]\n",
    "print(id(lst))      # tożsamość\n",
    "print(type(lst))    # typ\n",
    "print(lst)          # wartość\n",
    "\n",
    "print(id(lst[0]))"
   ]
  },
  {
   "cell_type": "code",
   "execution_count": 8,
   "metadata": {},
   "outputs": [
    {
     "name": "stdout",
     "output_type": "stream",
     "text": [
      "4835739584\n",
      "4835739584\n",
      "4835739584\n",
      "4835739584\n",
      "[1, 2, 4]\n",
      "[1, 2, 4]\n"
     ]
    }
   ],
   "source": [
    "lista = [1, 4, 2]\n",
    "lista2 = lista      # [1, 4, 2] <- lista2, lista\n",
    "print(id(lista))\n",
    "print(id(lista2))\n",
    "\n",
    "lista.sort()       # [1, 2, 4] <- lista2, lista\n",
    "\n",
    "print(id(lista))\n",
    "print(id(lista2))\n",
    "\n",
    "print(lista)\n",
    "print(lista2)"
   ]
  },
  {
   "attachments": {},
   "cell_type": "markdown",
   "metadata": {
    "slideshow": {
     "slide_type": "slide"
    }
   },
   "source": [
    "## Co mają obiekty?"
   ]
  },
  {
   "attachments": {},
   "cell_type": "markdown",
   "metadata": {
    "slideshow": {
     "slide_type": "fragment"
    }
   },
   "source": [
    "W zorientowanych obiektowo językach programowania, takich jak Python, *obiekt* to jednostka zawierająca dane wraz z powiązanymi metadanymi lub funkcjami."
   ]
  },
  {
   "attachments": {},
   "cell_type": "markdown",
   "metadata": {
    "slideshow": {
     "slide_type": "fragment"
    }
   },
   "source": [
    "Obiekty posiadają:\n",
    "\n",
    "* *Atrybuty* (zwane również polami) – wartości powiązane z obiektem, można o nich myśleć jako o czymś, co określa charakterystykę obiektu.\n",
    "* *Metody* – *wywoływalne* funkcje, które operują na obiekcie.\n",
    "\n",
    "Dostęp do atrybutów i metod uzyskuje się przez użycie składni z kropkami (\"`.`\")."
   ]
  },
  {
   "attachments": {},
   "cell_type": "markdown",
   "metadata": {
    "slideshow": {
     "slide_type": "subslide"
    }
   },
   "source": [
    "Na przykład, zanim rozpoczęliśmy OOP to widzieliśmy, że listy mają metodę `append`, która dodaje element do listy i jest dostępna za pomocą składni kropki (\"`.`\"):"
   ]
  },
  {
   "cell_type": "code",
   "execution_count": 4,
   "metadata": {
    "slideshow": {
     "slide_type": "fragment"
    }
   },
   "outputs": [
    {
     "name": "stdout",
     "output_type": "stream",
     "text": [
      "[1, 2, 3, 100]\n"
     ]
    }
   ],
   "source": [
    "L = [1, 2, 3]\n",
    "L.append(100)\n",
    "print(L)\n"
   ]
  },
  {
   "cell_type": "code",
   "execution_count": 12,
   "metadata": {},
   "outputs": [
    {
     "name": "stdout",
     "output_type": "stream",
     "text": [
      "1.txt\n"
     ]
    }
   ],
   "source": [
    "with open('1.txt', 'w') as f:\n",
    "    f.write(\"23\")\n",
    "    print(f.name)"
   ]
  },
  {
   "attachments": {},
   "cell_type": "markdown",
   "metadata": {
    "slideshow": {
     "slide_type": "subslide"
    }
   },
   "source": [
    "Chociaż można się spodziewać, że obiekty złożone, takie jak listy, mają atrybuty i metody, czasami nieoczekiwane jest to, że w Pythonie nawet proste typy mają dołączone atrybuty i metody. Na przykład typy liczbowe mają atrybut `real` i `imag`, który zwraca rzeczywistą i urojoną część wartości, jeśli jest postrzegana jako liczba zespolona:"
   ]
  },
  {
   "cell_type": "code",
   "execution_count": 5,
   "metadata": {
    "slideshow": {
     "slide_type": "fragment"
    }
   },
   "outputs": [
    {
     "name": "stdout",
     "output_type": "stream",
     "text": [
      "4.5 + 0.0 i\n"
     ]
    }
   ],
   "source": [
    "x = 4.5\n",
    "print(x.real, \"+\", x.imag, 'i')"
   ]
  },
  {
   "attachments": {},
   "cell_type": "markdown",
   "metadata": {
    "slideshow": {
     "slide_type": "subslide"
    }
   },
   "source": [
    "Metody są podobne do atrybutów, z tą różnicą, że są to funkcje, które można wywołać za pomocą otwierających i zamykających nawiasów. Na przykład liczby zmiennoprzecinkowe mają metodę o nazwie `is_integer`, która sprawdza, czy wartość jest liczbą całkowitą:"
   ]
  },
  {
   "cell_type": "code",
   "execution_count": 6,
   "metadata": {
    "slideshow": {
     "slide_type": "fragment"
    }
   },
   "outputs": [
    {
     "name": "stdout",
     "output_type": "stream",
     "text": [
      "False\n"
     ]
    }
   ],
   "source": [
    "x = 4.5\n",
    "print(x.is_integer())"
   ]
  },
  {
   "cell_type": "code",
   "execution_count": 7,
   "metadata": {
    "slideshow": {
     "slide_type": "fragment"
    }
   },
   "outputs": [
    {
     "name": "stdout",
     "output_type": "stream",
     "text": [
      "<class 'float'>\n",
      "True\n"
     ]
    }
   ],
   "source": [
    "x = 4.0\n",
    "print(type(x))\n",
    "print(x.is_integer())"
   ]
  },
  {
   "attachments": {},
   "cell_type": "markdown",
   "metadata": {
    "slideshow": {
     "slide_type": "slide"
    }
   },
   "source": [
    "##### Kluczowe różnice między metodą a funkcją w Pythonie\n",
    "Skoro poznaliśmy podstawową wiedzę na temat funkcji i metody, podkreślmy kluczowe różnice między nimi:\n",
    "1. W przeciwieństwie do funkcji metody są wywoływane na obiekcie. Metoda wywoływana jest na obiekcie, podczas gdy funkcja jest wywoływana bez żadnego obiektu. Ponadto, ponieważ metoda jest wywoływana na obiekcie, może uzyskać dostęp do zawartych w nim danych.\n",
    "1. W przeciwieństwie do metody, która może zmienić stan obiektu, funkcja Pythona tego nie robi i normalnie na niej działa."
   ]
  },
  {
   "cell_type": "code",
   "execution_count": null,
   "metadata": {},
   "outputs": [],
   "source": [
    "x = [1, 2, 3]\n",
    "len(x)"
   ]
  },
  {
   "attachments": {},
   "cell_type": "markdown",
   "metadata": {
    "slideshow": {
     "slide_type": "subslide"
    }
   },
   "source": [
    "Krótko mówiąc, metoda to funkcja należąca do obiektu.\n",
    "\n",
    "Ale jak więc korzystać z funkcji i jak używać metod? Odpowiedzmy na przykładzie `sorted()` i `.sort()`:"
   ]
  },
  {
   "cell_type": "code",
   "execution_count": 8,
   "metadata": {
    "slideshow": {
     "slide_type": "fragment"
    }
   },
   "outputs": [
    {
     "name": "stdout",
     "output_type": "stream",
     "text": [
      "[6, 9, 3, 1]\n",
      "4430763392\n",
      "[1, 3, 6, 9]\n",
      "[6, 9, 3, 1]\n",
      "4430763392\n",
      "4430763264\n"
     ]
    }
   ],
   "source": [
    "numbers = [6, 9, 3, 1]\n",
    "print(numbers)\n",
    "print(id(numbers))\n",
    "\n",
    "print(sorted(numbers))\n",
    "print(numbers)\n",
    "print(id(numbers))\n",
    "\n",
    "print(id(sorted(numbers)))"
   ]
  },
  {
   "cell_type": "code",
   "execution_count": 9,
   "metadata": {
    "slideshow": {
     "slide_type": "subslide"
    }
   },
   "outputs": [
    {
     "name": "stdout",
     "output_type": "stream",
     "text": [
      "[6, 9, 3, 1]\n",
      "4430759424\n",
      "[1, 3, 6, 9]\n",
      "4430759424\n"
     ]
    }
   ],
   "source": [
    "numbers = [6, 9, 3, 1]\n",
    "print(numbers)\n",
    "print(id(numbers))\n",
    "\n",
    "numbers.sort()\n",
    "print(numbers)\n",
    "print(id(numbers))"
   ]
  },
  {
   "cell_type": "markdown",
   "metadata": {},
   "source": [
    "## Przykład Klasy"
   ]
  },
  {
   "cell_type": "code",
   "execution_count": 16,
   "metadata": {},
   "outputs": [
    {
     "name": "stdout",
     "output_type": "stream",
     "text": [
      "I am Devon and I am 2 years old\n",
      "Meow ~Ragdoll\n",
      "Ragdoll\n"
     ]
    }
   ],
   "source": [
    "class Cat:\n",
    "    def __init__(self, name, age):\n",
    "        self.name = name\n",
    "        self.age = age\n",
    "\n",
    "    def show(self):\n",
    "        print(f\"I am {self.name} and I am {self.age} years old\")\n",
    "\n",
    "    def speak(self):\n",
    "        print(\"Meow ~\" + self.name)\n",
    "\n",
    "\n",
    "\n",
    "a1 = Cat(\"Devon\", 2)\n",
    "a2 = Cat(\"Ragdoll\", 4)\n",
    "\n",
    "a1.show()\n",
    "a2.speak()\n",
    "print(a2.name)"
   ]
  },
  {
   "cell_type": "code",
   "execution_count": null,
   "metadata": {},
   "outputs": [
    {
     "name": "stdout",
     "output_type": "stream",
     "text": [
      "Ala: 10\n",
      "Ala: 10\n"
     ]
    }
   ],
   "source": [
    "class MyClass:\n",
    "    def __init__(self, value):\n",
    "        self.value = value\n",
    "        self.msg = None\n",
    "        # self.value to atrybut obiektu\n",
    "\n",
    "    def show_value(self):\n",
    "        msg = \"Value of this:\"\n",
    "        self.msg = \"Ala\"\n",
    "        print(f\"{self.msg}: {self.value}\")\n",
    "\n",
    "    def show_value2(self):\n",
    "        print(f\"{self.msg}: {self.value}\")\n",
    "\n",
    "obj1 = MyClass(10)\n",
    "obj2 = MyClass(20)\n",
    "\n",
    "obj1.show_value()\n",
    "obj1.show_value2()"
   ]
  },
  {
   "cell_type": "markdown",
   "metadata": {},
   "source": [
    "```bash\n",
    "Obiekt obj1\n",
    "   +---------------------+\n",
    "   |  MyClass instance   | <-- obj1\n",
    "   +---------------------+\n",
    "   |  value: 10          | <-- self.value = 10\n",
    "   +---------------------+\n",
    "\n",
    "   Wywołanie: obj1.show_value()\n",
    "   Wynik: \"Value: 10\"\n",
    "   W metodzie self -> wskazuje na obj1\n",
    "\n",
    "Obiekt obj2\n",
    "   +---------------------+\n",
    "   |  MyClass instance   | <-- obj2\n",
    "   +---------------------+\n",
    "   |  value: 20          | <-- self.value = 20\n",
    "   +---------------------+\n",
    "\n",
    "   Wywołanie: obj2.show_value()\n",
    "   Wynik: \"Value: 20\"\n",
    "   W metodzie self -> wskazuje na obj2\n",
    "```"
   ]
  },
  {
   "cell_type": "code",
   "execution_count": null,
   "metadata": {},
   "outputs": [],
   "source": []
  }
 ],
 "metadata": {
  "celltoolbar": "Slideshow",
  "kernelspec": {
   "display_name": "Python 3 (ipykernel)",
   "language": "python",
   "name": "python3"
  },
  "language_info": {
   "codemirror_mode": {
    "name": "ipython",
    "version": 3
   },
   "file_extension": ".py",
   "mimetype": "text/x-python",
   "name": "python",
   "nbconvert_exporter": "python",
   "pygments_lexer": "ipython3",
   "version": "3.10.14"
  }
 },
 "nbformat": 4,
 "nbformat_minor": 4
}
