{
 "cells": [
  {
   "cell_type": "markdown",
   "metadata": {
    "slideshow": {
     "slide_type": "slide"
    }
   },
   "source": [
    "<img src=\"../code_brainers_logo.png\" alt=\"logo\" width=\"400\"/>\n",
    "\n",
    "# 001 test auto python - api, postman\n",
    "_Kamil Bartocha_"
   ]
  },
  {
   "cell_type": "markdown",
   "metadata": {},
   "source": [
    "# Testowanie interfejsów API\n",
    "\n",
    "## Co to jest API?\n",
    "API (Interfejs Programowania Aplikacji) to zbiór reguł i protokołów, które pozwalają różnym aplikacjom komunikować się ze sobą. Definiuje metody i formaty danych, które aplikacje mogą używać do żądania i wymiany informacji.\n",
    "\n",
    "## Dlaczego testowanie API jest ważne?\n",
    "Testowanie API jest istotne z kilku powodów:\n",
    "- **Wczesne wykrywanie problemów:** Testowanie API może wykryć problemy we wczesnych fazach rozwoju, zapobiegając tym samym kosztownym i skomplikowanym naprawom w przyszłości.\n",
    "- **Testowanie integracji:** API są powszechnie wykorzystywane do integracji różnych komponentów oprogramowania. Testowanie API zapewnia sprawne działanie tych integracji.\n",
    "- **Walidacja danych:** Testowanie API pomaga zapewnić, że dane wysyłane i odbierane przez API są dokładne i spójne.\n",
    "- **Bezpieczeństwo:** Testowanie API może zidentyfikować podatności na ataki, takie jak nieautoryzowany dostęp czy wycieki danych.\n",
    "- **Wydajność:** Testowanie API może oceniać wydajność API w różnych warunkach, takich jak duże obciążenie lub równoczesne żądania."
   ]
  },
  {
   "cell_type": "markdown",
   "metadata": {},
   "source": [
    "![\n",
    "](images/image_api.png)"
   ]
  },
  {
   "cell_type": "markdown",
   "metadata": {},
   "source": [
    "W tym przykładzie:\n",
    "\n",
    "- `Klient` reprezentuje klienta lub aplikację, która wysyła żądanie API.\n",
    "- `Serwer API` reprezentuje serwer hostujący API.\n",
    "- `Baza Danych` reprezentuje bazę danych, w której przechowywane są informacje o produktach.\n",
    "\n",
    "Przebieg działania jest następujący:\n",
    "\n",
    "1. Klient wysyła żądanie GET (`GET /produkty`) do serwera API w celu pobrania informacji o produktach.\n",
    "2. Serwer API odbiera żądanie i wysyła zapytanie do bazy danych o żądane dane produktów.\n",
    "3. Baza danych przetwarza zapytanie i pobiera odpowiednie dane.\n",
    "4. Serwer API wysyła pobrane dane jako odpowiedź do klienta.\n",
    "5. Klient odbiera i przetwarza dane zwrócone przez API.\n"
   ]
  },
  {
   "cell_type": "markdown",
   "metadata": {},
   "source": [
    "## Narzędzia do testowania API\n",
    "Istnieje wiele narzędzi dostępnych do testowania API, w tym:\n",
    "- **Postman:** Popularne narzędzie do projektowania, testowania i automatyzacji żądań API.\n",
    "- **Swagger/OpenAPI:** Narzędzia generujące dokumentację API i mogą pomagać w testowaniu.\n",
    "- **SoapUI:** Przeznaczone głównie do testowania usług internetowych typu SOAP, ale można je także wykorzystać do testowania API REST.\n",
    "- **Jenkins, Travis CI i inne:** Narzędzia do ciągłej integracji, które mogą automatyzować testowanie API jako część procesu budowania.\n",
    "\n",
    "## Wyzwania w testowaniu API\n",
    "Testowanie API wiąże się z własnymi wyzwaniami, takimi jak:\n",
    "- **Ograniczony interfejs użytkownika:** W przeciwieństwie do interfejsów graficznych, API nie mają interfejsu użytkownika, co sprawia, że wizualizacja interakcji może być trudna.\n",
    "- **Złożone formaty danych:** API często używają złożonych formatów danych, takich jak JSON lub XML, które wymagają dokładnej obsługi.\n",
    "- **Autoryzacja i uwierzytelnienie:** Testowanie API z mechanizmami autoryzacji i uwierzytelniania może być skomplikowane.\n",
    "- **Wersjonowanie:** Obsługa zmian w API i zachowanie kompatybilności wstecznej może być wyzwaniem.\n"
   ]
  },
  {
   "cell_type": "markdown",
   "metadata": {},
   "source": [
    "# Kluczowe Pojęcia związane z API\n",
    "\n",
    "\n",
    "## 1. Punkt Końcowy (Endpoint)\n",
    "- **Opis:** Punkt końcowy to konkretny adres URL lub URI (Uniform Resource Identifier) udostępniony przez API do wykonienia określonej akcji lub dostępu do konkretnego zasobu.\n",
    "- **Przykład:** W aplikacji do wymiany wiadomości, punkt końcowy `/wiadomosci/wyslij` służy do wysyłania wiadomości, a `/wiadomosci/skrzynka` służy do pobierania skrzynki odbiorczej użytkownika.\n",
    "\n",
    "## 2. Metody HTTP - HyperText Transfer Protocol\n",
    "- **Opis:** Metody HTTP (np. GET, POST, PUT, DELETE) określają rodzaj operacji, która ma być wykonywana na punkcie końcowym API.\n",
    "- **Przykład:** Aby utworzyć nowe konto użytkownika, API rejestracyjne używa metody HTTP POST. Do pobrania profilu użytkownika API używa metody HTTP GET.\n",
    "\n",
    "    - `GET`: Służy do pobierania danych z serwera. Powinna być bezpieczna i idempotentna, co oznacza, że nie zmienia danych na serwerze.\n",
    "    - `POST`: Służy do tworzenia nowych zasobów na serwerze. Może zawierać dane w ciele żądania.\n",
    "    - `PUT`: Służy do aktualizacji lub zastępowania istniejącego zasobu na serwerze. Zazwyczaj zawiera pełną reprezentację zasobu w ciele żądania.\n",
    "    - `DELETE`: Służy do usunięcia zasobu z serwera.\n",
    "\n",
    "## 3. Żądanie i Odpowiedź\n",
    "- **Opis:** Interakcje z API polegają na wysyłaniu żądań przez klientów i otrzymywaniu odpowiedzi z serwera. Żądania zawierają informacje, takie jak metoda HTTP, nagłówki, parametry i ciało żądania. Odpowiedzi zawierają dane, metadane i kod stanu.\n",
    "- **Przykład:** Gdy aplikacja internetowa wysyła żądanie `GET` do `/produkty/123`, API odpowiada JSON-em zawierającym szczegóły produktu, takie jak nazwa, cena i opis.\n",
    "\n",
    "## 4. Nagłówki (Headers)\n",
    "- **Opis:** Nagłówki zawierają dodatkowe informacje o żądaniu lub odpowiedzi, takie jak typ zawartości, tokeny uwierzytelniające i dyrektywy dotyczące buforowania.\n",
    "- **Przykład:** W żądaniu API do przesłania obrazu może być dołączony nagłówek `Content-Type`, który wskazuje, że zawartość jest typu `image/jpeg`.\n",
    "\n",
    "## 5. Parametry\n",
    "- **Opis:** Punkty końcowe API często przyjmują parametry jako część adresu URL (parametry zapytania) lub w ciele żądania (parametry żądania). Parametry modyfikują zachowanie żądania.\n",
    "- **Przykład:** W API wyszukiwania, żądanie `GET` do `/szukaj?zapytanie=słowo` może zawierać parametr `zapytanie`, który określa słowo kluczowe do wyszukania.\n",
    "\n",
    "## 6. Kody Stanu http (Status Codes)\n",
    "- **Opis:** Kody stanu HTTP (np. 200 OK, 404 Not Found) służą do wskazywania wyniku żądania API. Informują, czy żądanie zakończyło się sukcesem i, jeśli nie, podają przyczynę błędu.\n",
    "- **Przykład:** Po wysłaniu formularza, API może odpowiedzieć kodem stanu `201 Created`, wskazując, że zasób został pomyślnie utworzony. Kod stanu `400 Bad Request` może być zwrócony dla nieprawidłowego żądania.\n",
    "\n",
    "**1xx - Informacyjne:** Serwer przetwarza żądanie. Rzadko widywane.\n",
    "\n",
    "**2xx - Sukces:** Żądanie zakończone sukcesem.\n",
    "   - `200 OK`: Sukces - żądanie udane.\n",
    "   - `201 Created`: Sukces - zasób został utworzony.\n",
    "   - `204 No Content`: Sukces - żądanie udane, brak dodatkowych danych.\n",
    "\n",
    "**3xx - Przekierowania:** Klient musi podjąć dodatkowe działania.\n",
    "   - `301 Moved Permanently`: Zasób przeniesiony trwale.\n",
    "   - `302 Found` (lub `302 Found`): Zasób przeniesiony tymczasowo.\n",
    "   - `304 Not Modified`: Dane w pamięci podręcznej są nadal ważne.\n",
    "\n",
    "**4xx - Błędy Klienta:** Problem z żądaniem klienta.\n",
    "   - `400 Bad Request`: Błąd składni lub parametrów.\n",
    "   - `401 Unauthorized`: Wymagana autentykacja.\n",
    "   - `403 Forbidden`: Brak uprawnień dostępu.\n",
    "   - `404 Not Found`: Zasób nie został odnaleziony.\n",
    "\n",
    "**5xx - Błędy Serwera:** Serwer napotkał problem.\n",
    "   - `500 Internal Server Error`: Ogólny błąd serwera.\n",
    "   - `502 Bad Gateway`: Nieprawidłowa odpowiedź od serwera nadrzędnego.\n",
    "   - `503 Service Unavailable`: Serwer tymczasowo przeciążony lub w trybie konserwacji."
   ]
  },
  {
   "cell_type": "markdown",
   "metadata": {},
   "source": [
    "# SOAP vs REST\n",
    "\n",
    "### SOAP - Simple Object Access Protocol\n",
    "### REST - Representational State Transfer\n",
    "\n",
    "| Kryterium | SOAP | REST |\n",
    "| --- | --- | --- |\n",
    "| Protokół Komunikacyjny | Opiera się na XML. Może używać różnych protokołów transportowych. | Wykorzystuje protokół HTTP. Dane mogą być kodowane w różnych formatach. |\n",
    "| Format Wiadomości | Strukturalne wiadomości XML. | Formaty danych bardziej zrozumiałe dla ludzi, takie jak JSON. |\n",
    "| Sposób Działania | Rygorystyczne standardy i specyfikacje. | Luźny i elastyczny model. |\n",
    "| Paradygmaty | Często używany w usługach internetowych opartych na operacjach. | Opiera się na reprezentacji zasobów i operacjach HTTP. |\n",
    "| Statefulness | Z reguły bezstanowy. | Jest bezstanowy. |\n",
    "| Zabezpieczenia | Wbudowane mechanizmy zabezpieczeń, takie jak WS-Security. | Wykorzystuje standardy bezpieczeństwa HTTP, takie jak HTTPS. |\n",
    "| Obsługa Błędów | Zdefiniowany mechanizm obsługi błędów i wyjątków. | Obsługa błędów jest bardziej zależna od implementacji. |\n",
    "| Wyjątkowe Zastosowania | Stosowany w starszych systemach i korporacyjnych środowiskach. | Powszechnie stosowany w aplikacjach internetowych i mikrousługach. |\n"
   ]
  },
  {
   "cell_type": "markdown",
   "metadata": {},
   "source": [
    "# Tworzenie zapytań(request) w REST\n",
    "\n",
    "1. **Wybierz Metodę HTTP:** REST wykorzystuje różne metody HTTP, takie jak GET, POST, PUT, DELETE itp., do określenia rodzaju operacji na zasobie.\n",
    "\n",
    "2. **Określ URI (Uniform Resource Identifier):** URI to unikalny identyfikator zasobu, na którym chcesz przeprowadzić operację. Na przykład: `/api/books` dla listy książek.\n",
    "\n",
    "3. **Dodaj Nagłówki (Headers):** W razie potrzeby dodaj nagłówki HTTP do żądania, takie jak dane uwierzytelniające lub typ akceptowanych danych.\n",
    "\n",
    "4. **Ustal Ciało Żądania (Request Body):** W przypadku metod takich jak POST lub PUT, przekaż dane w ciele żądania (zazwyczaj w formacie JSON lub XML).\n",
    "\n",
    "5. **Wyślij Żądanie:** Wyślij żądanie HTTP na określoną ścieżkę z wybraną metodą, nagłówkami i ciałem żądania.\n",
    "\n",
    "6. **Odbierz Odpowiedź:** Serwer API zwróci odpowiedź, która zawiera kod stanu HTTP i ewentualne dane lub informacje zwrotne.\n",
    "\n",
    "7. **Przetwórz Odpowiedź:** Przetwórz dane w odpowiedzi, zgodnie z potrzebami twojej aplikacji.\n",
    "\n",
    "Oto przykład żądania GET w REST:\n",
    "\n",
    "**Metoda:** GET\n",
    "**URI:** /api/books\n",
    "**Nagłówki:**\n",
    "- Host: example.com\n",
    "To żądanie pobiera listę książek z określonej ścieżki URI.\n",
    "\n"
   ]
  },
  {
   "cell_type": "markdown",
   "metadata": {},
   "source": [
    "![Alt text](images/image-1_postnam.png)"
   ]
  },
  {
   "cell_type": "markdown",
   "metadata": {},
   "source": [
    "# Postman - Narzędzie do Testowania i Rozwoju API"
   ]
  },
  {
   "cell_type": "markdown",
   "metadata": {},
   "source": [
    "**Postman** to wszechstronne narzędzie do **rozwoju i testowania interfejsów API**. Umożliwia ono uproszczenie interakcji z API dzięki intuicyjnemu interfejsowi do wysyłania żądań HTTP, testowania API, automatyzacji testów oraz dokumentowania interfejsów API.\n",
    "\n",
    "Postman jest szeroko wykorzystywany przez programistów i testerów do zapewnienia funkcjonalności, wydajności i niezawodności API.\n",
    "\n",
    "Główne funkcje Postmana to testowanie API, rozwijanie nowych interfejsów, tworzenie skryptów automatycznych testów, dokumentacja API, monitorowanie i wiele innych. Jest dostępny jako aplikacja desktopowa dla systemów Windows, macOS i Linux oraz jako wersja webowa pozwalająca na pracę w przeglądarkach internetowych."
   ]
  },
  {
   "cell_type": "markdown",
   "metadata": {},
   "source": [
    "Strona internetowa: https://www.postman.com/\n",
    "\n",
    "### Werjsa w przeglądarce"
   ]
  },
  {
   "cell_type": "markdown",
   "metadata": {},
   "source": [
    "![Alt text](images/image_postnam_web.png)"
   ]
  },
  {
   "cell_type": "markdown",
   "metadata": {},
   "source": [
    "### Wersja aplikacji\n",
    "\n",
    "![Alt text](images/image_postman_app.png)"
   ]
  },
  {
   "cell_type": "markdown",
   "metadata": {},
   "source": [
    "# Do ćwiczeń użyjemy Simple Book API użytkownika vdespa"
   ]
  },
  {
   "cell_type": "markdown",
   "metadata": {},
   "source": [
    "https://simple-books-api.glitch.me"
   ]
  },
  {
   "cell_type": "markdown",
   "metadata": {},
   "source": [
    "# Simple Books API  - Documentation #\n",
    "\n",
    "This API allows you to reserve a book.\n",
    "\n",
    "The API is available at `https://simple-books-api.glitch.me`\n",
    "\n",
    "## Endpoints ##\n",
    "\n",
    "### Status ###\n",
    "\n",
    "GET `/status`\n",
    "\n",
    "Returns the status of the API.\n",
    "\n",
    "### List of books ###\n",
    "\n",
    "GET `/books`\n",
    "\n",
    "Returns a list of books.\n",
    "\n",
    "Optional query parameters:\n",
    "\n",
    "- type: fiction or non-fiction\n",
    "- limit: a number between 1 and 20.\n",
    "\n",
    "\n",
    "### Get a single book ###\n",
    "\n",
    "GET `/books/:bookId`\n",
    "\n",
    "Retrieve detailed information about a book.\n",
    "\n",
    "\n",
    "### Submit an order ###\n",
    "\n",
    "POST `/orders`\n",
    "\n",
    "Allows you to submit a new order. Requires authentication.\n",
    "\n",
    "The request body needs to be in JSON format and include the following properties:\n",
    "\n",
    " - `bookId` - Integer - Required\n",
    " - `customerName` - String - Required\n",
    "\n",
    "Example\n",
    "```\n",
    "POST /orders/\n",
    "Authorization: Bearer <YOUR TOKEN>\n",
    "\n",
    "{\n",
    "  \"bookId\": 1,\n",
    "  \"customerName\": \"John\"\n",
    "}\n",
    "```\n",
    "\n",
    "The response body will contain the order Id.\n",
    "\n",
    "### Get all orders ###\n",
    "\n",
    "GET `/orders`\n",
    "\n",
    "Allows you to view all orders. Requires authentication.\n",
    "\n",
    "### Get an order ###\n",
    "\n",
    "GET `/orders/:orderId`\n",
    "\n",
    "Allows you to view an existing order. Requires authentication.\n",
    "\n",
    "### Update an order ###\n",
    "\n",
    "PATCH `/orders/:orderId`\n",
    "\n",
    "Update an existing order. Requires authentication.\n",
    "\n",
    "The request body needs to be in JSON format and allows you to update the following properties:\n",
    "\n",
    " - `customerName` - String\n",
    "\n",
    " Example\n",
    "```\n",
    "PATCH /orders/PF6MflPDcuhWobZcgmJy5\n",
    "Authorization: Bearer <YOUR TOKEN>\n",
    "\n",
    "{\n",
    "  \"customerName\": \"John\"\n",
    "}\n",
    "```\n",
    "\n",
    "### Delete an order ###\n",
    "\n",
    "DELETE `/orders/:orderId`\n",
    "\n",
    "Delete an existing order. Requires authentication.\n",
    "\n",
    "The request body needs to be empty.\n",
    "\n",
    " Example\n",
    "```\n",
    "DELETE /orders/PF6MflPDcuhWobZcgmJy5\n",
    "Authorization: Bearer <YOUR TOKEN>\n",
    "```\n",
    "\n",
    "## API Authentication ##\n",
    "\n",
    "To submit or view an order, you need to register your API client.\n",
    "\n",
    "POST `/api-clients/`\n",
    "\n",
    "The request body needs to be in JSON format and include the following properties:\n",
    "\n",
    " - `clientName` - String\n",
    " - `clientEmail` - String\n",
    "\n",
    " Example\n",
    "\n",
    " ```\n",
    " {\n",
    "    \"clientName\": \"Postman\",\n",
    "    \"clientEmail\": \"valentin@example.com\"\n",
    "}\n",
    " ```\n",
    "\n",
    "The response body will contain the access token. The access token is valid for 7 days.\n",
    "\n",
    "**Possible errors**\n",
    "\n",
    "Status code 409 - \"API client already registered.\" Try changing the values for `clientEmail` and `clientName` to something else."
   ]
  },
  {
   "cell_type": "markdown",
   "metadata": {},
   "source": [
    "### Pierwsze zapytanie\n",
    "1. Tworzymy nowy Workspace, o dowolnej nazwie\n",
    "2. Otwieramy new tab (+ icon)\n",
    "3. Wpisujemy https://simple-books-api.glitch.me/status w pole i klikamy send"
   ]
  },
  {
   "cell_type": "markdown",
   "metadata": {},
   "source": [
    "### Zapisywanie requestów\n",
    "\n",
    "1. Klikamy Save w prawym górnym rogu\n",
    "2. Wpisujemy nazwę\n",
    "3. Nie możemy zapisać jeśli nie mamy kolekcji - zapytania przypisane do jednego api\n",
    "4. Tworzymy kolekcję\n",
    "5. Klikamy save\n",
    "6. Możemy przywołać zapisany request i od razu klikać Send"
   ]
  },
  {
   "cell_type": "markdown",
   "metadata": {},
   "source": [
    "### Lepiej przechowywać URL strony w zmiennej\n",
    "\n",
    "1. Zaznaczamy część ULR usuwając wcześniej /status\n",
    "2. Klikamy Set as Variable -> Set as a new Variable\n",
    "3. Dodajemy nazwę: baseUrl\n",
    "4. Wybieramy Scope - Simple Book API\n",
    "\n",
    "### Dostęp do zmiennych:\n",
    "1. Kolekcja -> ...(znak 3 kropek) -> edit\n",
    "2. Zakładka Variables.\n",
    "3. Nasza zmienna powinna mieć initial i Current value jako: https://simple-books-api.glitch.me"
   ]
  },
  {
   "cell_type": "markdown",
   "metadata": {},
   "source": [
    "### /books\n",
    "1. Utwórz nowy request z /books. Dodaj go do kolekcji(aby miał dostęp do baseUrl)\n",
    "2. Parametry, mogą być opjonalne lub wymagane\n",
    "3. Dodaj parametr type=crime - niepoprawny typ\n",
    "4. Zmień parametr type na poprawny - fiction\n",
    "\n",
    "### Ćwiczenie\n",
    "Dodaj parametr ograniczający liczbę wyników zapytania bazując na dokumentacji"
   ]
  },
  {
   "cell_type": "markdown",
   "metadata": {},
   "source": [
    "### Tworzenie Path Variable za dla /books/:bookId"
   ]
  },
  {
   "cell_type": "markdown",
   "metadata": {},
   "source": [
    "1. Path parameter/variable - zapisujemy ścieżkę do jendej konkretnej książki z której chcemy pozyskać dane\n",
    "2. Wpisujemy Value 1 w bookId\n",
    "3. Klikamy Send\n",
    "4. Próba wysłania bookId = 0\n",
    "\n",
    "- Postman zmienia {{baseURL}}/books/:bookId na {{baseURL}}/books/1  (gdzie 1 to wpisane value w Path Variables)\n",
    "- nazwa bookId jest dowolna"
   ]
  },
  {
   "cell_type": "markdown",
   "metadata": {},
   "source": [
    "### POST request: /orders"
   ]
  },
  {
   "cell_type": "code",
   "execution_count": null,
   "metadata": {},
   "outputs": [
    {
     "data": {
      "text/plain": [
       "{'clientName': 'Kamil', 'clientEmail': 'Kamil@cb.com'}"
      ]
     },
     "execution_count": 3,
     "metadata": {},
     "output_type": "execute_result"
    }
   ],
   "source": [
    "{\n",
    "    \"clientName\": \"kamil\",\n",
    "    \"clientEmail\": \"kamil@cb.com\"\n",
    "}"
   ]
  },
  {
   "cell_type": "markdown",
   "metadata": {},
   "source": [
    "1. Utwórz nowy request z /orders i metodą POST\n",
    "2. Spróbuj wysłać request: \"error\": \"Missing Authorization header.\"\n",
    "3. Utworzenie access token\n",
    "    1. Utwórz nowy request: POST, /api-clients\n",
    "    2. Body z dokumentacji: raw -> JSON\n",
    "    3. Send\n",
    "    4. 201 Created -> Utworzono token(hasło do użycia API)\n",
    "    5. Skopiuj accesstoken i utwórz nową zmienną w kolekcji: accessToken, Current value: <token>\n",
    "    6. Dodajemy accessToken do Authorization -> Type: Bearer Token -> {{accessToken}}\n",
    "4. Send -> \"error\": \"Invalid or missing bookId.\"\n",
    "5. Zamów book o Id 1. Dokumentacja -> Body -> raw -> JSON"
   ]
  },
  {
   "cell_type": "markdown",
   "metadata": {},
   "source": [
    "### Generowanie nazw\n",
    "\n",
    "Postman pozwala na generowanie nazw aby nie powtarzać tych samych wartośći\n",
    "w Body -> JSON możemy w pisać `\"customerName\": \"{{$randomFullName}}\"` aby wysłać wygenerowane przez postmana"
   ]
  },
  {
   "cell_type": "markdown",
   "metadata": {},
   "source": [
    "### List all the orders\n",
    "\n",
    "### Ćwiczenie:\n",
    "Stwórz zapytanie które wyświetli złożone zamówienia(orders)\n",
    "\n",
    "### Ćwiczenie:\n",
    "Bazując na poprzednim request stwórz nowe zapytanie które wyświetli order o konkretnym id(istniejącym)"
   ]
  },
  {
   "cell_type": "markdown",
   "metadata": {},
   "source": [
    "### Użycie PATCH - aktualizacja zasobu\n",
    "\n",
    "1. Używając PATCH wysyłamy aktualizację `\"customerName\": \"Bob {{$randomLastName}}\"` do istniejącego zasobu"
   ]
  },
  {
   "cell_type": "markdown",
   "metadata": {},
   "source": [
    "### Użycie DELETE\n",
    "1. Używając metody `DELETE` usuń jedno ze złożontch zamówień (order)"
   ]
  },
  {
   "cell_type": "markdown",
   "metadata": {},
   "source": [
    "## Automatyzacja w postmanie"
   ]
  },
  {
   "cell_type": "markdown",
   "metadata": {},
   "source": [
    "### Dodaj test do zapytania API Status:\n",
    "1. Otwórz zapytanie\n",
    "2. w zakładce Tests dodaj poniższy kod"
   ]
  },
  {
   "cell_type": "markdown",
   "metadata": {},
   "source": [
    "```javascript\n",
    "pm.test(\"Status code is 200\", function () {\n",
    "    pm.response.to.have.status(200);\n",
    "});\n",
    "\n",
    "cosnt = response = pm.response.json()\n",
    "\n",
    "console.log(response.status)\n",
    "console.log(response[\"status\"])\n",
    "\n",
    "pm.test(\"Status should be OK\", () =>{\n",
    "    pm.expect(1).to.eql(1)\n",
    "    pm.expect(response.status).to.eql(\"OK\")\n",
    "\n",
    "})\n",
    "```"
   ]
  },
  {
   "cell_type": "markdown",
   "metadata": {},
   "source": [
    "### Ćwiczenie:\n",
    "Dodaj test do dowolnego zapytania sprawdzający czy status code jest poprawny"
   ]
  },
  {
   "cell_type": "markdown",
   "metadata": {},
   "source": [
    "## Runner"
   ]
  },
  {
   "cell_type": "markdown",
   "metadata": {},
   "source": [
    "1. Wciśnij Runner w dolnym prawym rogu\n",
    "2. Przytrzymaj kolekcję i przeciągnij ją w kartę Runner\n",
    "3. Możemy wybierać kolejność zapytań\n",
    "4. Wybierz tylko te zapytania do których są napisane testy"
   ]
  },
  {
   "cell_type": "markdown",
   "metadata": {},
   "source": [
    "## Monitor Runner"
   ]
  },
  {
   "cell_type": "markdown",
   "metadata": {},
   "source": [
    "1. Wybierz Monitors z menu po lewej stronie\n",
    "2. Create a Monitor\n",
    "3. Wybierz kolekcję\n",
    "4. Zapisz monitor"
   ]
  },
  {
   "cell_type": "markdown",
   "metadata": {},
   "source": []
  }
 ],
 "metadata": {
  "celltoolbar": "Slideshow",
  "kernelspec": {
   "display_name": "Python 3 (ipykernel)",
   "language": "python",
   "name": "python3"
  },
  "language_info": {
   "codemirror_mode": {
    "name": "ipython",
    "version": 3
   },
   "file_extension": ".py",
   "mimetype": "text/x-python",
   "name": "python",
   "nbconvert_exporter": "python",
   "pygments_lexer": "ipython3",
   "version": "3.10.6"
  }
 },
 "nbformat": 4,
 "nbformat_minor": 4
}
