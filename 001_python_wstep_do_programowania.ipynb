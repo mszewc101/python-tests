{
 "cells": [
  {
   "attachments": {},
   "cell_type": "markdown",
   "metadata": {
    "slideshow": {
     "slide_type": "slide"
    }
   },
   "source": [
    "<img src=\"code_brainers_logo.png\" alt=\"logo\" width=\"400\"/>\n",
    "\n",
    "# 001 Python - wstęp do programowania"
   ]
  },
  {
   "attachments": {},
   "cell_type": "markdown",
   "metadata": {
    "slideshow": {
     "slide_type": "slide"
    }
   },
   "source": [
    "## Algorytmy"
   ]
  },
  {
   "attachments": {},
   "cell_type": "markdown",
   "metadata": {
    "slideshow": {
     "slide_type": "slide"
    }
   },
   "source": [
    "### Algorytm\n",
    "* Od **łacińskiego** słowa **_algorithmus_**\n",
    "* Skończony ciąg jasno zdefiniowanych czynności koniecznych do wykonania pewnego rodzaju zadań\n",
    "* Sposób postępowania prowadzący do rozwiązania problemu\n",
    "* Można go przedstawić na **schemacie blokowym**\n",
    "\n",
    "Diagram Ady Lovelace z „notatki G”, pierwszego opublikowanego algorytmu komputerowego:"
   ]
  },
  {
   "attachments": {},
   "cell_type": "markdown",
   "metadata": {
    "slideshow": {
     "slide_type": "slide"
    }
   },
   "source": [
    "![Diagram Ady Lovelace z „notatki G”, pierwszego opublikowanego algorytmu komputerowego](https://upload.wikimedia.org/wikipedia/commons/c/cf/Diagram_for_the_computation_of_Bernoulli_numbers.jpg \"Diagram Ady Lovelace z „notatki G”, pierwszego opublikowanego algorytmu komputerowego\")"
   ]
  },
  {
   "attachments": {},
   "cell_type": "markdown",
   "metadata": {
    "slideshow": {
     "slide_type": "slide"
    }
   },
   "source": [
    "### Pseudokod i jego implementacja\n",
    "* Sposób zapisu algorytmu:\n",
    "  * Zachowujący strukturę charakterystyczną dla kodu zapisanego w języku programowania\n",
    "  * Rezygnujący ze ścisłych reguł składniowych na rzecz prostoty i czytelności\n",
    "* Brak szczegółów implementacyjnych (inicjalizacja zmiennych, alokacja pamięci)\n",
    "* Często też opuszczanie w nim opisu działania pod-procedur (gdy oczywiste)\n",
    "* Nietrywialne kroki opisywane z pomocą matematyki lub języka naturalnego"
   ]
  },
  {
   "attachments": {},
   "cell_type": "markdown",
   "metadata": {
    "slideshow": {
     "slide_type": "slide"
    }
   },
   "source": [
    "**`jeżeli`**` numer karty kredytowej jest ważny `**` to`**\\\n",
    "` ` ` ` `wykonanie transakcji w oparciu o numer karty i zamówienie`\\\n",
    "**`w przeciwnym razie`**\\\n",
    "` ` ` ` `wyświetlenie wiadomości o niepowodzeniu`\\\n",
    "**`koniec warunku`**"
   ]
  },
  {
   "attachments": {},
   "cell_type": "markdown",
   "metadata": {
    "slideshow": {
     "slide_type": "slide"
    }
   },
   "source": [
    "### Algorytm (schemat) blokowy\n",
    "* Narzędzie służące do przedstawienia kolejnych czynności w projektowanym **algorytmie**\n",
    "* Diagram, na którym procedura, system lub program komputerowy - reprezentowane przez opisane figury geometryczne połączone strzałkami (niekiedy tylko liniami) zgodnie z kolejnością wykonywania czynności wynikających z przyjętego algorytmu rozwiązania zadania"
   ]
  },
  {
   "attachments": {},
   "cell_type": "markdown",
   "metadata": {
    "slideshow": {
     "slide_type": "slide"
    }
   },
   "source": [
    "![](https://upload.wikimedia.org/wikipedia/commons/6/68/LampFlowchart-pl.svg)"
   ]
  },
  {
   "attachments": {},
   "cell_type": "markdown",
   "metadata": {
    "slideshow": {
     "slide_type": "slide"
    }
   },
   "source": [
    "### Podstawowe elementy budowy\n",
    "* **Strzałka** - wskazywanie:\n",
    "  * Powiązania,\n",
    "  * I ich kierunku (zwrotu)\n",
    "* **Operator** - prostokąt, z wpisanymi wszystkimi operacjami z wyjątkiem instrukcji wyboru\n",
    "* **Predykat** - romb, z wpisanymi wyłącznie instrukcjami wyboru\n",
    "* **Etykieta** - owal służący do oznaczania początku albo końca sekwencji schematu:\n",
    "  * Kończenie schematu\n",
    "  * Zaczynanie schematu\n",
    "  * Przerywanie schematu\n",
    "  * Przenoszenie schematu"
   ]
  },
  {
   "attachments": {},
   "cell_type": "markdown",
   "metadata": {
    "slideshow": {
     "slide_type": "slide"
    }
   },
   "source": [
    "### Szczegóły budowy schematu\n",
    "* a) **blok graniczny** - początek, koniec\n",
    "* b) **blok wejścia-wyjścia (I / O)** - wprowadzenie i wypisywanie danych\n",
    "* c) **blok operacyjny (PROCES)** - wykonanie operacji\n",
    "* d) **blok decyzyjny, warunkowy (DECYZJA)** - wybór jednego z 2 wariantów"
   ]
  },
  {
   "attachments": {},
   "cell_type": "markdown",
   "metadata": {
    "slideshow": {
     "slide_type": "slide"
    }
   },
   "source": [
    "![](https://upload.wikimedia.org/wikipedia/commons/a/a5/Block_diagram_flowchart.png)"
   ]
  },
  {
   "attachments": {},
   "cell_type": "markdown",
   "metadata": {
    "slideshow": {
     "slide_type": "slide"
    }
   },
   "source": [
    "## Ćwiczenia - schemat blokowy (pierwsze programy)"
   ]
  },
  {
   "attachments": {},
   "cell_type": "markdown",
   "metadata": {
    "slideshow": {
     "slide_type": "slide"
    }
   },
   "source": [
    "### Ćwiczenie nr 1: Dodaj 10 i 20, wypisz sumę."
   ]
  },
  {
   "attachments": {},
   "cell_type": "markdown",
   "metadata": {
    "slideshow": {
     "slide_type": "slide"
    }
   },
   "source": [
    "Aby rozwiązać ten problem, weźmiemy zmienną sumę i ustawimy ją na zero. Następnie weźmiemy dwie liczby 10 i 20 jako dane wejściowe. Następnie dodamy obie liczby i zapiszemy wynik w zmiennej suma, czyli suma = 10 + 20. Na koniec wydrukujemy wartość przechowywaną w zmiennej sum.\n",
    "\n",
    "Algorytm:\n",
    "1. Inicjalizuj sumę = 0, num1 = 10, num2 = 20 (PROCES)\n",
    "1. Wprowadź liczby (I / O)\n",
    "1. Dodaj je i zapisz wynik w sumie (PROCES)\n",
    "1. Wydrukuj sumę (I / O)\n",
    "\n",
    "Jako odpowiedź, narysuj schemat blokowy."
   ]
  },
  {
   "attachments": {},
   "cell_type": "markdown",
   "metadata": {
    "slideshow": {
     "slide_type": "slide"
    }
   },
   "source": [
    "### Ćwiczenie nr 2: Znajdź sumę 5 wprowadzonych przez użytkownika liczb"
   ]
  },
  {
   "attachments": {},
   "cell_type": "markdown",
   "metadata": {
    "slideshow": {
     "slide_type": "slide"
    }
   },
   "source": [
    "W tym pytaniu mamy znaleźć sumę (zmienna $sum$) $5$ liczb. Tak więc weźmiemy dwie zmienne - sumę ($sum$) i liczbę zliczania ($count$) i ustawimy obie na $0$. Zmienna $sum$ zapisze wynik, a zmienna $count$ będzie śledzić, ile liczb przeczytaliśmy.\n",
    "\n",
    "Aby rozwiązać ten problem, użyjemy koncepcji pętli. W przypadku operacji pętlowych lub iteracyjnych niektóre kroki wykonujemy wielokrotnie, o ile dany warunek ma wartość PRAWDZIWĄ ($TRUE$). W tym przypadku będziemy czytać dane wejściowe, aż odczytamy $5$ liczb."
   ]
  },
  {
   "attachments": {},
   "cell_type": "markdown",
   "metadata": {
    "slideshow": {
     "slide_type": "slide"
    }
   },
   "source": [
    "Czyli najpierw inicjalizujemy zmienną $sum$ i liczymy do $0$. Następnie weźmiemy dane wejściowe i zapiszemy je w zmiennej $n$. Następnie dodamy wartość przechowywaną w $n$ do zmiennej $sum$ i zapiszemy sumę (zmienną $sum$) odpowiedzi.\n",
    "\n",
    "czyli $sum=sum+n$\n",
    "\n",
    "Następnie zwiększymy liczbę $count$ o $1$ i sprawdzimy, czy liczba $count$ jest mniejsza niż $5$. Jeśli ten warunek jest PRAWDZIWY ($TRUE$), weźmiemy kolejne dane wejściowe. Jeśli warunek jest NIEPRAWIDŁOWY ($FALSE$), wydrukujemy wartość przechowywaną jako zmienna $sum$."
   ]
  },
  {
   "attachments": {},
   "cell_type": "markdown",
   "metadata": {
    "slideshow": {
     "slide_type": "slide"
    }
   },
   "source": [
    "Algorytm:\n",
    "\n",
    "1. Zainicjuj zmieną $sum=0$ i liczbę ($count$) = 0 (PROCES)\n",
    "1. Wpisz $n$ (I / O)\n",
    "1. Znajdź wartość $sum+n$ i przypisz ją do zmiennej $sum$, a następnie zwiększ liczbę ($count$) o $1$ (PROCES)\n",
    "1. Czy liczba $count<5$ (DECYZJA)\n",
    "1. Jeśli TAK ($TRUE$), przejdź do kroku 2; inaczej; Wydrukuj wartość $sum$ (I / O)\n",
    "\n",
    "Jako odpowiedź, narysuj schemat blokowy."
   ]
  },
  {
   "attachments": {},
   "cell_type": "markdown",
   "metadata": {
    "slideshow": {
     "slide_type": "slide"
    }
   },
   "source": [
    "### Ćwiczenie nr 3: Wypisz Hello World 10 razy"
   ]
  },
  {
   "attachments": {},
   "cell_type": "markdown",
   "metadata": {
    "slideshow": {
     "slide_type": "slide"
    }
   },
   "source": [
    "#### Ćwiczenie\n",
    "Ten problem jest również rozwiązany za pomocą koncepcji pętli. Bierzemy zmienną liczba ($count$) i ustawiamy ją na $0$. Następnie drukujemy „`Hello World`” i zwiększamy liczbę ($count$) o $1$.\n",
    "\n",
    "tj. $count=count+1$\n",
    "\n",
    "Następnie sprawdzamy, czy liczba ($count$) jest mniejsza niż $10$. Jeśli jest to PRAWDA ($TRUE$), ponownie drukujemy „`Hello World`” i zwiększamy zmienną liczba ($count$). Z drugiej strony, jeśli warunek jest NIEPRAWDZIWY ($FALSE$), to zatrzymamy się."
   ]
  },
  {
   "attachments": {},
   "cell_type": "markdown",
   "metadata": {
    "slideshow": {
     "slide_type": "slide"
    }
   },
   "source": [
    "Algorytm:\n",
    "\n",
    "1. Inicjalizacja liczby $count=0$ (PROCES)\n",
    "1. Drukuj „`Hello World`” (I / O)\n",
    "1. Przyrost liczby ($count$) o $1$ (PROCES)\n",
    "1. Czy liczba $count<10$ (DECYZJA)\n",
    "1. jeśli TAK ($TRUE$) przejdź do kroku 2; inaczej; Stop\n",
    "\n",
    "Jako odpowiedź, narysuj schemat blokowy."
   ]
  },
  {
   "attachments": {},
   "cell_type": "markdown",
   "metadata": {
    "slideshow": {
     "slide_type": "slide"
    }
   },
   "source": [
    "### Zadanie nr 4: Przelicz temperaturę z Fahrenheita (`℉`) na Celsjusza (`℃`) - algorytm"
   ]
  },
  {
   "attachments": {},
   "cell_type": "markdown",
   "metadata": {
    "slideshow": {
     "slide_type": "slide"
    }
   },
   "source": [
    "#### Ćwiczenie\n",
    "1. Odczytaj temperaturę w stopniach Fahrenheita\n",
    "1. Oblicz temperaturę za pomocą wzoru $C=\\frac{5}{9}\\cdot(F-32)$\n",
    "1. Wypisz $C$\n",
    "\n",
    "Jako odpowiedź, narysuj schemat blokowy."
   ]
  },
  {
   "attachments": {},
   "cell_type": "markdown",
   "metadata": {
    "slideshow": {
     "slide_type": "slide"
    }
   },
   "source": [
    "![](https://dyclassroom.com/image/topic/flowchart/flowchart-ex2-q1.png)"
   ]
  }
 ],
 "metadata": {
  "celltoolbar": "Slideshow",
  "kernelspec": {
   "display_name": "Python 3",
   "language": "python",
   "name": "python3"
  },
  "language_info": {
   "codemirror_mode": {
    "name": "ipython",
    "version": 3
   },
   "file_extension": ".py",
   "mimetype": "text/x-python",
   "name": "python",
   "nbconvert_exporter": "python",
   "pygments_lexer": "ipython3",
   "version": "3.10.6"
  }
 },
 "nbformat": 4,
 "nbformat_minor": 4
}
