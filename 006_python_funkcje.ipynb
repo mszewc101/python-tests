{
 "cells": [
  {
   "cell_type": "markdown",
   "metadata": {},
   "source": [
    "<img src=\"code_brainers_logo.png\" alt=\"logo\" width=\"400\"/>\n",
    "\n",
    "# 006 Python - funkcje\n",
    "_Kamil Bartocha_"
   ]
  },
  {
   "cell_type": "markdown",
   "metadata": {
    "slideshow": {
     "slide_type": "slide"
    }
   },
   "source": [
    "## Funkcje"
   ]
  },
  {
   "cell_type": "markdown",
   "metadata": {
    "slideshow": {
     "slide_type": "fragment"
    }
   },
   "source": [
    "Funkcje służą do wykonywania określonych operacji, które mogą być wykonywane w jednym programie wielokrotnie.\n",
    "\n",
    "Do tej pory używaliśmy funkcji wbudowanych w język takich jak `print()` czy `len()`.\n",
    "\n",
    "Każda funkcja ma `nazwę()`, a w nawiasach okrągłych może mieć listę argumentów, które przyjmuje.\n",
    "\n",
    "Instrukcja `def` definiuje funkcję. Instrukcje tworzące ciało funkcji zaczynają się od następnego wiersza i muszą być wcięte. Przykład:\n",
    "\n",
    "```python\n",
    "def function_name():\n",
    "    code\n",
    "```"
   ]
  },
  {
   "cell_type": "markdown",
   "metadata": {
    "slideshow": {
     "slide_type": "slide"
    }
   },
   "source": [
    "### Definicja funkcji składa się z linijki\n",
    "```python\n",
    "def fibonacci_numbers(n)\n",
    "```\n",
    "która definiuje nazwę funkcji (w tym przypadku `fibonacci_numbers`) oraz jej argumenty podane w nawiasach okrągłych (w tym przypadku `n`)\n",
    "* W kolejnych linijkach, które muszą być jednokrotnie wcięte podane jest tzw. ciało funkcji czyli wszystkie operacje wykonywane wewnątrz funkcji\n",
    "* Wszystkie zmienne utworzone w funkcji są dostępne tylko z w jej wnętrzu\n",
    "* Funkcja może zwracać jakiś obiekt, do tego służy instrukcja\n",
    "```python\n",
    "return <objekt>\n",
    "```\n",
    "\n",
    "\n",
    "### Następnie wywołanie funckji:\n",
    "\n",
    "```python\n",
    "x = fibonacci_numbers(10)\n",
    "```"
   ]
  },
  {
   "cell_type": "markdown",
   "metadata": {},
   "source": [
    "### Przykład:"
   ]
  },
  {
   "cell_type": "code",
   "execution_count": 4,
   "metadata": {
    "slideshow": {
     "slide_type": "slide"
    }
   },
   "outputs": [
    {
     "name": "stdout",
     "output_type": "stream",
     "text": [
      "[0, 1, 1, 2, 3, 5, 8, 13, 21, 34, 55, 89, 144, 233, 377, 610, 987, 1597, 2584, 4181, 6765, 10946, 17711, 28657, 46368, 75025, 121393, 196418, 317811, 514229, 832040, 1346269, 2178309, 3524578, 5702887, 9227465, 14930352, 24157817, 39088169, 63245986, 102334155, 165580141, 267914296, 433494437, 701408733, 1134903170, 1836311903, 2971215073, 4807526976, 7778742049, 12586269025, 20365011074, 32951280099, 53316291173, 86267571272, 139583862445, 225851433717, 365435296162, 591286729879, 956722026041, 1548008755920, 2504730781961, 4052739537881, 6557470319842, 10610209857723, 17167680177565, 27777890035288, 44945570212853, 72723460248141, 117669030460994, 190392490709135, 308061521170129, 498454011879264, 806515533049393, 1304969544928657, 2111485077978050, 3416454622906707, 5527939700884757, 8944394323791464, 14472334024676221, 23416728348467685, 37889062373143906, 61305790721611591, 99194853094755497, 160500643816367088, 259695496911122585, 420196140727489673, 679891637638612258, 1100087778366101931, 1779979416004714189, 2880067194370816120, 4660046610375530309, 7540113804746346429, 12200160415121876738, 19740274219868223167, 31940434634990099905, 51680708854858323072, 83621143489848422977, 135301852344706746049, 218922995834555169026]\n"
     ]
    }
   ],
   "source": [
    "def fibonacci_numbers(n):\n",
    "    '''zwraca n liczb Fibonacciego\n",
    "       zwraca listę!\n",
    "    '''\n",
    "    wynik = []\n",
    "    a, b = 0, 1\n",
    "    while len(wynik) < n:\n",
    "        wynik.append(a)\n",
    "        a, b = b, a + b\n",
    "    return wynik\n",
    "\n",
    "fib10 = fibonacci_numbers(100)\n",
    "print(fib10)"
   ]
  },
  {
   "cell_type": "markdown",
   "metadata": {
    "slideshow": {
     "slide_type": "slide"
    }
   },
   "source": [
    "Program wypisujący „`Hello world!`” a następnie „`Wikipedia`” w następnym wierszu za pomocą funckji o nazwie simple_function."
   ]
  },
  {
   "cell_type": "code",
   "execution_count": 2,
   "metadata": {
    "slideshow": {
     "slide_type": "fragment"
    }
   },
   "outputs": [
    {
     "name": "stdout",
     "output_type": "stream",
     "text": [
      "Hello world!\n",
      "Wikipedia\n"
     ]
    }
   ],
   "source": [
    "def simple_function():\n",
    "    print('Hello world!')\n",
    "    print('Wikipedia')\n",
    "\n",
    "\n",
    "simple_function()"
   ]
  },
  {
   "cell_type": "markdown",
   "metadata": {
    "slideshow": {
     "slide_type": "slide"
    }
   },
   "source": [
    "Instrukcja `return` służy do zwracania wartości z funkcji."
   ]
  },
  {
   "cell_type": "markdown",
   "metadata": {
    "slideshow": {
     "slide_type": "fragment"
    }
   },
   "source": [
    "#### Przykład: Funkcja zwracająca wynik działania 3 + 3"
   ]
  },
  {
   "cell_type": "code",
   "execution_count": 3,
   "metadata": {
    "slideshow": {
     "slide_type": "fragment"
    }
   },
   "outputs": [
    {
     "name": "stdout",
     "output_type": "stream",
     "text": [
      "6\n"
     ]
    }
   ],
   "source": [
    "def myfunction():\n",
    "    return 3 + 3\n",
    "\n",
    "\n",
    "print(myfunction())"
   ]
  },
  {
   "cell_type": "markdown",
   "metadata": {
    "slideshow": {
     "slide_type": "slide"
    }
   },
   "source": [
    "Argument (parametr aktualny), to element składni w języku programowania Python, który w wyniku wywołania podprogramu (funkcji), zostaje utożsamiony (skojarzony) z określonym parametrem podprogramu (funkcji)."
   ]
  },
  {
   "cell_type": "code",
   "execution_count": 5,
   "metadata": {
    "slideshow": {
     "slide_type": "fragment"
    }
   },
   "outputs": [
    {
     "name": "stdout",
     "output_type": "stream",
     "text": [
      "5\n"
     ]
    }
   ],
   "source": [
    "def add(x, y):\n",
    "    return x + y\n",
    "\n",
    "\n",
    "print(add(2, 3))"
   ]
  },
  {
   "cell_type": "markdown",
   "metadata": {
    "slideshow": {
     "slide_type": "slide"
    }
   },
   "source": [
    "## Docstring"
   ]
  },
  {
   "cell_type": "markdown",
   "metadata": {
    "slideshow": {
     "slide_type": "fragment"
    }
   },
   "source": [
    "Funkcja może zawierać informacje dokumentujące jej działanie.\n",
    "\n",
    "Należy je podać w potrójnych cudzysłowach `\"\"\"` w linijkach następujących po linijce definiującej nazwę funkcji i jej argumenty."
   ]
  },
  {
   "cell_type": "code",
   "execution_count": 8,
   "metadata": {
    "slideshow": {
     "slide_type": "fragment"
    }
   },
   "outputs": [
    {
     "name": "stdout",
     "output_type": "stream",
     "text": [
      "Help on function my_function in module __main__:\n",
      "\n",
      "my_function()\n",
      "\n"
     ]
    }
   ],
   "source": [
    "def my_function():\n",
    "    \"\"\"Dokumentacja funkcji X\"\"\"\n",
    "\n",
    "help(my_function)"
   ]
  },
  {
   "cell_type": "markdown",
   "metadata": {
    "slideshow": {
     "slide_type": "slide"
    }
   },
   "source": [
    "## *Rekurencja/rekursja ang. _recursion_\n",
    "\n",
    "Odwoływanie się do samej siebie np.: funkcji, lub definicji."
   ]
  },
  {
   "cell_type": "code",
   "execution_count": null,
   "metadata": {},
   "outputs": [
    {
     "name": "stdout",
     "output_type": "stream",
     "text": [
      "zmienna i: 0 Suma: 0\n",
      "zmienna i: 1 Suma: 1\n",
      "zmienna i: 2 Suma: 3\n",
      "zmienna i: 3 Suma: 6\n",
      "Suma za pomocą for: 6\n",
      "\n",
      "\n",
      "Zmienna number: 3\n",
      "Zmienna number: 2\n",
      "Zmienna number: 1\n",
      "Suma za pomocą rekurencji: 6\n"
     ]
    }
   ],
   "source": [
    "def suma_for(number):\n",
    "    \"\"\"counts sum form 1 to number.\n",
    "    if number = 3 returns 1 + 2 + 3\"\"\"\n",
    "    suma = 0\n",
    "    for i in range(number + 1):\n",
    "        suma += i # suma = suma + i\n",
    "        print(f\"zmienna i: {i} Suma: {suma}\")\n",
    "    return suma\n",
    "\n",
    "\n",
    "print(f\"Suma za pomocą for: {suma_for(3)}\\n\\n\")\n",
    "\n",
    "\n",
    "def suma_rekurencja(number):\n",
    "    if number == 0:\n",
    "        return 0\n",
    "    print(f\"Zmienna number: {number}\")\n",
    "    return number + suma_rekurencja(number - 1)\n",
    "\n",
    "\n",
    "print(f\"Suma za pomocą rekurencji: {suma_rekurencja(3)}\")"
   ]
  },
  {
   "cell_type": "markdown",
   "metadata": {},
   "source": [
    "Jeżeli wywołamy naszą funkcję z wartością 3\n",
    "```suma_rekurencja(3),```\n",
    "To zostanie wykonane następujące wyliczenie:\n",
    "\n",
    "```python\n",
    "3 + suma_rekurencja(2), czyli\n",
    "\n",
    "    2 + suma_rekurencja(1), czyli\n",
    "\n",
    "        1 + suma_rekurencja(0), czyli\n",
    "\n",
    "3 + 2 + 1 + 0\n",
    "\n",
    "```\n",
    "i otrzymamy `6`"
   ]
  },
  {
   "cell_type": "markdown",
   "metadata": {},
   "source": [
    "### Przykład użycia rekurencji w prawdziwym projekcie"
   ]
  },
  {
   "cell_type": "code",
   "execution_count": 7,
   "metadata": {},
   "outputs": [
    {
     "data": {
      "text/plain": [
       "['glossary.title',\n",
       " 'glossary.Alamakota',\n",
       " 'glossary.GlossDiv.title',\n",
       " 'glossary.GlossDiv.GlossList.GlossEntry.ID',\n",
       " 'glossary.GlossDiv.GlossList.GlossEntry.SortAs',\n",
       " 'glossary.GlossDiv.GlossList.GlossEntry.GlossTerm',\n",
       " 'glossary.GlossDiv.GlossList.GlossEntry.Acronym',\n",
       " 'glossary.GlossDiv.GlossList.GlossEntry.Abbrev',\n",
       " 'glossary.GlossDiv.GlossList.GlossEntry.GlossDef.para',\n",
       " 'glossary.GlossDiv.GlossList.GlossEntry.GlossSee']"
      ]
     },
     "execution_count": 7,
     "metadata": {},
     "output_type": "execute_result"
    }
   ],
   "source": [
    "data_json = {\n",
    "            \"glossary\": {\n",
    "                \"title\": \"example glossary\",\n",
    "                \"Alamakota\": \"var1\",\n",
    "                \"GlossDiv\": {\n",
    "                    \"title\": \"S\",\n",
    "                    \"GlossList\": {\n",
    "                        \"GlossEntry\": {\n",
    "                            \"ID\": \"SGML\",\n",
    "                            \"SortAs\": \"SGML\",\n",
    "                            \"GlossTerm\": \"Standard Generalized Markup Language\",\n",
    "                            \"Acronym\": \"SGML\",\n",
    "                            \"Abbrev\": \"ISO 8879:1986\",\n",
    "                            \"GlossDef\": {\n",
    "                                \"para\": \"A meta-markup language, used to create markup languages such as DocBook.\",\n",
    "                                \"GlossSeeAlso\": [\"GML\", \"XML\"]\n",
    "                            },\n",
    "                            \"GlossSee\": \"markup\"\n",
    "                        }\n",
    "                    }\n",
    "                }\n",
    "            }\n",
    "        }\n",
    "\n",
    "def find_paths(data, parent_key=''):\n",
    "    paths = []\n",
    "    if isinstance(data, dict):\n",
    "        for key, value in data.items():\n",
    "            full_key = f\"{parent_key}.{key}\" if parent_key else key\n",
    "            if isinstance(value, dict):\n",
    "                sub_paths = find_paths(value, full_key)\n",
    "                for sub_path in sub_paths:\n",
    "                    paths.append(sub_path)\n",
    "            elif isinstance(value, list):\n",
    "                for i, item in enumerate(value):\n",
    "                    sub_paths = find_paths(item, f\"{full_key}[{i}]\")\n",
    "                    for sub_path in sub_paths:\n",
    "                        paths.append(sub_path)\n",
    "            else:\n",
    "                paths.append(full_key)\n",
    "    return paths\n",
    "\n",
    "\n",
    "find_paths(data_json)"
   ]
  },
  {
   "cell_type": "markdown",
   "metadata": {
    "slideshow": {
     "slide_type": "slide"
    }
   },
   "source": [
    "## Ćwiczenia"
   ]
  },
  {
   "cell_type": "markdown",
   "metadata": {
    "slideshow": {
     "slide_type": "fragment"
    }
   },
   "source": [
    "### Ćwiczenie nr 1:\n",
    "\n",
    "Napisz funkcję w Pythonie, która obliczania długości łańcucha.\n",
    "\n",
    "Input: `\"CodeBrainers\"`\n",
    "\n",
    "Output: `12`"
   ]
  },
  {
   "cell_type": "code",
   "execution_count": null,
   "metadata": {},
   "outputs": [],
   "source": []
  },
  {
   "cell_type": "markdown",
   "metadata": {
    "slideshow": {
     "slide_type": "fragment"
    }
   },
   "source": [
    "### Ćwiczenie nr 2:\n",
    "\n",
    "Napisz funkcję w Pythonie, która zsumuje wszystkie elementy na liście.\n",
    "\n",
    "input: `[1, 2, -8]`\n",
    "\n",
    "output: `-5`"
   ]
  },
  {
   "cell_type": "code",
   "execution_count": null,
   "metadata": {},
   "outputs": [],
   "source": []
  },
  {
   "cell_type": "markdown",
   "metadata": {
    "slideshow": {
     "slide_type": "fragment"
    }
   },
   "source": [
    "### Ćwiczenie nr 3:\n",
    "\n",
    "Napisz funkcję w Pythonie, która mnoży wszystkie elementy na liście.\n",
    "\n",
    "input: `[1, 2, -8]`\n",
    "\n",
    "output: `-16`"
   ]
  },
  {
   "cell_type": "code",
   "execution_count": null,
   "metadata": {},
   "outputs": [],
   "source": []
  },
  {
   "cell_type": "markdown",
   "metadata": {
    "slideshow": {
     "slide_type": "slide"
    }
   },
   "source": [
    "### Ćwiczenie nr 4:\n",
    "\n",
    "Napisz funkcję w Pythonie, która znajdzie i zwróci największą liczbę w liście."
   ]
  },
  {
   "cell_type": "code",
   "execution_count": null,
   "metadata": {},
   "outputs": [],
   "source": []
  },
  {
   "cell_type": "markdown",
   "metadata": {},
   "source": [
    "### Ćwiczenie nr 5:\n",
    "\n",
    "Napisz funkcję w Pythonie, która znajdzie i zwróci najmniejszą liczbę w liście."
   ]
  },
  {
   "cell_type": "markdown",
   "metadata": {
    "slideshow": {
     "slide_type": "fragment"
    }
   },
   "source": [
    "### Ćwiczenie nr 6:\n",
    "\n",
    "Napisz funkcję w Pythonie, która zlicza liczbę znaków (częstotliwość znaków) w ciągu.\n",
    "\n",
    "Przykładowy ciąg: `google.com`\n",
    "\n",
    "Oczekiwany wynik:\n",
    "\n",
    "`{'o': 3, 'g': 2, '.': 1, 'e': 1, 'l': 1, 'm': 1, 'c': 1}`"
   ]
  },
  {
   "cell_type": "markdown",
   "metadata": {
    "slideshow": {
     "slide_type": "fragment"
    }
   },
   "source": [
    "### Ćwicznie nr 7:\n",
    "\n",
    "Napisz funkcję w Pythonie, która zlicza ciągi znaków, w których\n",
    "* długość ciągu wynosi `2` lub więcej\n",
    "* a pierwszy i ostatni znak  danego słowa są takie same.\n",
    "\n",
    "Przykładowa lista : `['abc', 'xyz', 'aba', '1221']`\n",
    "\n",
    "Oczekiwany wynik: `2`"
   ]
  },
  {
   "cell_type": "markdown",
   "metadata": {
    "slideshow": {
     "slide_type": "fragment"
    }
   },
   "source": [
    "### Ćwiczenie nr 8:\n",
    "\n",
    "Napisz funkcję w Pythonie, aby uzyskać listę posortowaną w porządku rosnącym według ostatniego elementu w każdej krotce z podanej listy niepustych krotek.\n",
    "\n",
    "Przykładowa lista: `[(2, 5), (1, 2), (4, 4), (2, 3), (2, 1)]`\n",
    "\n",
    "Oczekiwany wynik : `[(2, 1), (1, 2), (2, 3), (4, 4), (2, 5)]`\n",
    "\n",
    "Wskazówka:\n",
    "* Napisz funkcję pomocniczą last(n), która zwróci ostatni element z podanej listy/krotki\n",
    "* użyj pomocniczej funckji we wbudowanej funkcji `sorted()` przekazując ją jako parametr `key=last`"
   ]
  },
  {
   "cell_type": "markdown",
   "metadata": {
    "slideshow": {
     "slide_type": "fragment"
    }
   },
   "source": [
    "### Ćwiczenie nr 9:\n",
    "\n",
    "Napisz funkcję w Pythonie, aby uzyskać łańcuch składający się z pierwszych `2` i ostatnich `2` znaków z danego łańcucha.\n",
    "\n",
    "* Jeśli długość ciągu jest mniejsza niż `2`, zwróć zamiast tego pusty ciąg.\n",
    "\n",
    "Przykładowy ciąg : `CodeBrainers`\n",
    "\n",
    "Oczekiwany wynik: `Cors`\n",
    "\n",
    "Przykładowy ciąg : `CB`\n",
    "\n",
    "Oczekiwany wynik: `CBCB`\n",
    "\n",
    "Przykładowy ciąg : `C`\n",
    "\n",
    "Oczekiwany wynik: pusty ciąg"
   ]
  },
  {
   "cell_type": "markdown",
   "metadata": {
    "slideshow": {
     "slide_type": "fragment"
    }
   },
   "source": [
    "### Ćwiczenie nr 10: (*)\n",
    "\n",
    "Napisz funckję obliczjącą ciąg Fibonacciego w Pythonie za pomocą rekurencji."
   ]
  }
 ],
 "metadata": {
  "celltoolbar": "Slideshow",
  "kernelspec": {
   "display_name": "Python 3",
   "language": "python",
   "name": "python3"
  },
  "language_info": {
   "codemirror_mode": {
    "name": "ipython",
    "version": 3
   },
   "file_extension": ".py",
   "mimetype": "text/x-python",
   "name": "python",
   "nbconvert_exporter": "python",
   "pygments_lexer": "ipython3",
   "version": "3.9.6"
  }
 },
 "nbformat": 4,
 "nbformat_minor": 4
}
